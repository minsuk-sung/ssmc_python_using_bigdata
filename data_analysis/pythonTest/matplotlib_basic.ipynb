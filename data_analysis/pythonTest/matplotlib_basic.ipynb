{
 "cells": [
  {
   "cell_type": "code",
   "execution_count": 49,
   "metadata": {},
   "outputs": [],
   "source": [
    "import numpy as np\n",
    "import pandas as pd\n",
    "import matplotlib.pyplot as plt\n",
    "import matplotlib\n",
    "matplotlib.rcParams['font.family'] = 'AppleGothic' # 한글이 깨져서 맞추는..\n",
    "matplotlib.rcParams['axes.unicode_minus'] = False\n",
    "# %matplotlib qt\n",
    "%matplotlib inline\n",
    "# qt : 새롭게 창 뜨고, inline : 웹상"
   ]
  },
  {
   "cell_type": "code",
   "execution_count": 28,
   "metadata": {},
   "outputs": [
    {
     "data": {
      "text/plain": [
       "홍길동     70\n",
       "이순신     90\n",
       "임꺽정     55\n",
       "정난정     60\n",
       "이이      76\n",
       "이황      80\n",
       "정도전     76\n",
       "김철수1    88\n",
       "김철수2    30\n",
       "김철수3    25\n",
       "Name: 국어점수, dtype: int64"
      ]
     },
     "execution_count": 28,
     "metadata": {},
     "output_type": "execute_result"
    }
   ],
   "source": [
    "sr = pd.Series([70,90,55,60,76,80,76,88,30,25],name='국어점수')\n",
    "sr.index=['홍길동','이순신','임꺽정','정난정','이이','이황','정도전','김철수1','김철수2','김철수3']\n",
    "sr"
   ]
  },
  {
   "cell_type": "code",
   "execution_count": 29,
   "metadata": {},
   "outputs": [
    {
     "data": {
      "text/plain": [
       "'국어점수'"
      ]
     },
     "execution_count": 29,
     "metadata": {},
     "output_type": "execute_result"
    }
   ],
   "source": [
    "sr.name # Series에서 데이터의 이름을 라벨링 해주는거"
   ]
  },
  {
   "cell_type": "code",
   "execution_count": 30,
   "metadata": {},
   "outputs": [
    {
     "data": {
      "image/png": "[encoded data removed]",
      "text/plain": [
       "<Figure size 432x288 with 1 Axes>"
      ]
     },
     "metadata": {},
     "output_type": "display_data"
    }
   ],
   "source": [
    "sr.plot()\n",
    "plt.show()"
   ]
  },
  {
   "cell_type": "markdown",
   "metadata": {},
   "source": [
    "---\n",
    "\n",
    "Pandas Series Plot 에 관련한 Documents  \n",
    "https://pandas.pydata.org/pandas-docs/stable/generated/pandas.Series.plot.html\n",
    "Series.plot(**kind='line'**, ax=None, figsize=None, use_index=True, title=None, grid=None, legend=False, style=None, logx=False, logy=False, loglog=False, xticks=None, yticks=None, xlim=None, ylim=None, rot=None, fontsize=None, colormap=None, table=False, yerr=None, xerr=None, label=None, secondary_y=False, **kwds)"
   ]
  },
  {
   "cell_type": "code",
   "execution_count": 50,
   "metadata": {},
   "outputs": [
    {
     "data": {
      "image/png": "[encoded data removed]",
      "text/plain": [
       "<Figure size 432x288 with 1 Axes>"
      ]
     },
     "metadata": {},
     "output_type": "display_data"
    }
   ],
   "source": [
    "sr.plot(kind='bar')\n",
    "plt.show()"
   ]
  },
  {
   "cell_type": "markdown",
   "metadata": {},
   "source": [
    "#### 연습문제\n",
    "\n",
    " 1. 국어점수가 가장 큰 값을 구하시오\n",
    " 2. 국어점수가 가장 큰 값의 이름을 구하시오\n",
    " 3. 국어점수가 80점 이상인 값을 구하시오\n",
    " 4. 국어점수가 50점 이상 80점 이하인 값을 구하시오\n",
    " 5. 이름이 '김'으로 시작하는 데이터를 구하시오\n",
    " 6. 국어점수의 평균을 구하시오\n",
    " 7. 국어점수의 총합을 구하시오\n",
    " 8. 국어점수의 표준편차를 구하시오\n",
    " 9. 국어점수가 40점 이하인 데이터를 삭제하시오\n",
    " 10. 국어점수가 50점이상인 데이터에 가산점 10%를 부여하시오\n",
    " 11. 국어점수 중 top5인 데이터를 구하시오\n",
    " 12. 국어점수가 50점 이상인 데이터의 Bar Chart를 구하시오"
   ]
  },
  {
   "cell_type": "code",
   "execution_count": null,
   "metadata": {},
   "outputs": [],
   "source": [
    "ans = []"
   ]
  },
  {
   "cell_type": "markdown",
   "metadata": {},
   "source": [
    "> 국어점수가 가장 큰 값을 구하시오"
   ]
  },
  {
   "cell_type": "code",
   "execution_count": 86,
   "metadata": {},
   "outputs": [
    {
     "name": "stdout",
     "output_type": "stream",
     "text": [
      "90\n"
     ]
    }
   ],
   "source": [
    "ans1 = sr.max()\n",
    "print(ans1)"
   ]
  },
  {
   "cell_type": "markdown",
   "metadata": {},
   "source": [
    "> 국어점수가 가장 큰 값의 이름을 구하시오"
   ]
  },
  {
   "cell_type": "code",
   "execution_count": 94,
   "metadata": {},
   "outputs": [
    {
     "name": "stdout",
     "output_type": "stream",
     "text": [
      "이순신\n",
      "이순신    90\n",
      "Name: 국어점수, dtype: int64\n"
     ]
    }
   ],
   "source": [
    "ans2 = sr.idxmax() # 여러개라면 이렇게 하면 안되고 for loop 돌려야함\n",
    "print(ans2)\n",
    "\n",
    "ans2 = sr[sr==(sr.max())]\n",
    "print(ans2)"
   ]
  },
  {
   "cell_type": "markdown",
   "metadata": {},
   "source": [
    "> 국어점수가 80점 이상인 값을 구하시오"
   ]
  },
  {
   "cell_type": "code",
   "execution_count": 88,
   "metadata": {},
   "outputs": [
    {
     "name": "stdout",
     "output_type": "stream",
     "text": [
      "이순신     90\n",
      "이황      80\n",
      "김철수1    88\n",
      "Name: 국어점수, dtype: int64\n"
     ]
    }
   ],
   "source": [
    "ans3 = sr[sr>=80]\n",
    "print(ans3)"
   ]
  },
  {
   "cell_type": "markdown",
   "metadata": {},
   "source": [
    "> 국어점수가 50점 이상 80점 이하인 값을 구하시오"
   ]
  },
  {
   "cell_type": "code",
   "execution_count": 82,
   "metadata": {},
   "outputs": [
    {
     "name": "stdout",
     "output_type": "stream",
     "text": [
      "홍길동    70\n",
      "임꺽정    55\n",
      "정난정    60\n",
      "이이     76\n",
      "이황     80\n",
      "정도전    76\n",
      "Name: 국어점수, dtype: int64\n"
     ]
    }
   ],
   "source": [
    "ans4 = sr[(sr>=50)&(sr<=80)]\n",
    "print(ans4)"
   ]
  },
  {
   "cell_type": "markdown",
   "metadata": {},
   "source": [
    "> 이름이 '김'으로 시작하는 데이터를 구하시오"
   ]
  },
  {
   "cell_type": "code",
   "execution_count": 99,
   "metadata": {},
   "outputs": [
    {
     "name": "stdout",
     "output_type": "stream",
     "text": [
      "김철수1    88\n",
      "김철수2    30\n",
      "김철수3    25\n",
      "Name: 국어점수, dtype: int64\n"
     ]
    }
   ],
   "source": [
    "ans5 = sr[sr.index.str.contains('^김',regex=True)]\n",
    "print(ans5)"
   ]
  },
  {
   "cell_type": "markdown",
   "metadata": {},
   "source": [
    "> 국어점수의 평균을 구하시오"
   ]
  },
  {
   "cell_type": "code",
   "execution_count": 84,
   "metadata": {},
   "outputs": [
    {
     "name": "stdout",
     "output_type": "stream",
     "text": [
      "65.0\n"
     ]
    }
   ],
   "source": [
    "ans6 = sr.mean()\n",
    "print(ans6)"
   ]
  },
  {
   "cell_type": "markdown",
   "metadata": {},
   "source": [
    "> 국어점수의 총합을 구하시오"
   ]
  },
  {
   "cell_type": "code",
   "execution_count": 89,
   "metadata": {},
   "outputs": [
    {
     "name": "stdout",
     "output_type": "stream",
     "text": [
      "650\n"
     ]
    }
   ],
   "source": [
    "ans7 = sr.sum()\n",
    "print(ans7)"
   ]
  },
  {
   "cell_type": "markdown",
   "metadata": {},
   "source": [
    "> 국어점수의 표준편차를 구하시오 "
   ]
  },
  {
   "cell_type": "code",
   "execution_count": 90,
   "metadata": {},
   "outputs": [
    {
     "name": "stdout",
     "output_type": "stream",
     "text": [
      "22.59793500890439\n"
     ]
    }
   ],
   "source": [
    "ans8 = sr.std()\n",
    "print(ans8)"
   ]
  },
  {
   "cell_type": "markdown",
   "metadata": {},
   "source": [
    "> 국어점수가 40점 이하인 데이터를 삭제하시오"
   ]
  },
  {
   "cell_type": "code",
   "execution_count": 101,
   "metadata": {},
   "outputs": [
    {
     "name": "stdout",
     "output_type": "stream",
     "text": [
      "홍길동     70\n",
      "이순신     90\n",
      "임꺽정     55\n",
      "정난정     60\n",
      "이이      76\n",
      "이황      80\n",
      "정도전     76\n",
      "김철수1    88\n",
      "Name: 국어점수, dtype: int64\n"
     ]
    }
   ],
   "source": [
    "ans9 = sr[~(sr<=40)]\n",
    "print(ans9)"
   ]
  },
  {
   "cell_type": "markdown",
   "metadata": {},
   "source": [
    "> 국어점수가 50점이상인 데이터에 가산점 10%를 부여하시오"
   ]
  },
  {
   "cell_type": "code",
   "execution_count": 103,
   "metadata": {},
   "outputs": [
    {
     "name": "stdout",
     "output_type": "stream",
     "text": [
      "김철수2    33.0\n",
      "김철수3    27.5\n",
      "Name: 국어점수, dtype: float64\n"
     ]
    }
   ],
   "source": [
    "ans10 = sr[sr<=50]*1.1\n",
    "print(ans10)"
   ]
  },
  {
   "cell_type": "code",
   "execution_count": null,
   "metadata": {},
   "outputs": [],
   "source": [
    "> 국어점수 중 top5인 데이터를 구하시오"
   ]
  },
  {
   "cell_type": "code",
   "execution_count": 110,
   "metadata": {},
   "outputs": [
    {
     "name": "stdout",
     "output_type": "stream",
     "text": [
      "이순신     90\n",
      "김철수1    88\n",
      "이황      80\n",
      "정도전     76\n",
      "이이      76\n",
      "Name: 국어점수, dtype: int64\n"
     ]
    }
   ],
   "source": [
    "ans11 = sr.sort_values(ascending=False)[:5]\n",
    "print(ans11)"
   ]
  },
  {
   "cell_type": "code",
   "execution_count": 112,
   "metadata": {},
   "outputs": [
    {
     "data": {
      "image/png": "[encoded data removed]",
      "text/plain": [
       "<Figure size 432x288 with 1 Axes>"
      ]
     },
     "metadata": {},
     "output_type": "display_data"
    }
   ],
   "source": [
    "ans12 = sr[sr>=50].sort_values()\n",
    "ans12.plot(kind='bar')\n",
    "plt.show()"
   ]
  },
  {
   "cell_type": "code",
   "execution_count": null,
   "metadata": {},
   "outputs": [],
   "source": []
  }
 ],
 "metadata": {
  "kernelspec": {
   "display_name": "Python 3",
   "language": "python",
   "name": "python3"
  },
  "language_info": {
   "codemirror_mode": {
    "name": "ipython",
    "version": 3
   },
   "file_extension": ".py",
   "mimetype": "text/x-python",
   "name": "python",
   "nbconvert_exporter": "python",
   "pygments_lexer": "ipython3",
   "version": "3.6.5"
  }
 },
 "nbformat": 4,
 "nbformat_minor": 2
}
