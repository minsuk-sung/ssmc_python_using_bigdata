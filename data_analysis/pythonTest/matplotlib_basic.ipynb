{
 "cells": [
  {
   "cell_type": "code",
   "execution_count": 113,
   "metadata": {},
   "outputs": [],
   "source": [
    "import numpy as np\n",
    "import pandas as pd\n",
    "import matplotlib.pyplot as plt\n",
    "import matplotlib\n",
    "matplotlib.rcParams['font.family'] = 'AppleGothic' # 한글이 깨져서 맞추는..\n",
    "matplotlib.rcParams['axes.unicode_minus'] = False\n",
    "# %matplotlib qt\n",
    "%matplotlib inline\n",
    "# qt : 새롭게 창 뜨고, inline : 웹상"
   ]
  },
  {
   "cell_type": "code",
   "execution_count": 114,
   "metadata": {},
   "outputs": [
    {
     "data": {
      "text/plain": [
       "홍길동     70\n",
       "이순신     90\n",
       "임꺽정     55\n",
       "정난정     60\n",
       "이이      76\n",
       "이황      80\n",
       "정도전     76\n",
       "김철수1    88\n",
       "김철수2    30\n",
       "김철수3    25\n",
       "Name: 국어점수, dtype: int64"
      ]
     },
     "execution_count": 114,
     "metadata": {},
     "output_type": "execute_result"
    }
   ],
   "source": [
    "sr = pd.Series([70,90,55,60,76,80,76,88,30,25],name='국어점수')\n",
    "sr.index=['홍길동','이순신','임꺽정','정난정','이이','이황','정도전','김철수1','김철수2','김철수3']\n",
    "sr"
   ]
  },
  {
   "cell_type": "code",
   "execution_count": 115,
   "metadata": {},
   "outputs": [
    {
     "data": {
      "text/plain": [
       "'국어점수'"
      ]
     },
     "execution_count": 115,
     "metadata": {},
     "output_type": "execute_result"
    }
   ],
   "source": [
    "sr.name # Series에서 데이터의 이름을 라벨링 해주는거"
   ]
  },
  {
   "cell_type": "code",
   "execution_count": 116,
   "metadata": {},
   "outputs": [
    {
     "data": {
      "image/png": "[encoded data removed]",
      "text/plain": [
       "<Figure size 432x288 with 1 Axes>"
      ]
     },
     "metadata": {},
     "output_type": "display_data"
    }
   ],
   "source": [
    "sr.plot()\n",
    "plt.show()"
   ]
  },
  {
   "cell_type": "markdown",
   "metadata": {},
   "source": [
    "---\n",
    "\n",
    "Pandas Series Plot 에 관련한 Documents  \n",
    "https://pandas.pydata.org/pandas-docs/stable/generated/pandas.Series.plot.html\n",
    "Series.plot(**kind='line'**, ax=None, figsize=None, use_index=True, title=None, grid=None, legend=False, style=None, logx=False, logy=False, loglog=False, xticks=None, yticks=None, xlim=None, ylim=None, rot=None, fontsize=None, colormap=None, table=False, yerr=None, xerr=None, label=None, secondary_y=False, **kwds)"
   ]
  },
  {
   "cell_type": "code",
   "execution_count": 117,
   "metadata": {},
   "outputs": [
    {
     "data": {
      "image/png": "[encoded data removed]",
      "text/plain": [
       "<Figure size 432x288 with 1 Axes>"
      ]
     },
     "metadata": {},
     "output_type": "display_data"
    }
   ],
   "source": [
    "sr.plot(kind='bar')\n",
    "plt.show()"
   ]
  },
  {
   "cell_type": "markdown",
   "metadata": {},
   "source": [
    "#### 연습문제\n",
    "\n",
    " 1. 국어점수가 가장 큰 값을 구하시오\n",
    " 2. 국어점수가 가장 큰 값의 이름을 구하시오\n",
    " 3. 국어점수가 80점 이상인 값을 구하시오\n",
    " 4. 국어점수가 50점 이상 80점 이하인 값을 구하시오\n",
    " 5. 이름이 '김'으로 시작하는 데이터를 구하시오\n",
    " 6. 국어점수의 평균을 구하시오\n",
    " 7. 국어점수의 총합을 구하시오\n",
    " 8. 국어점수의 표준편차를 구하시오\n",
    " 9. 국어점수가 40점 이하인 데이터를 삭제하시오\n",
    " 10. 국어점수가 50점이상인 데이터에 가산점 10%를 부여하시오\n",
    " 11. 국어점수 중 top5인 데이터를 구하시오\n",
    " 12. 국어점수가 50점 이상인 데이터의 Bar Chart를 구하시오"
   ]
  },
  {
   "cell_type": "code",
   "execution_count": 118,
   "metadata": {},
   "outputs": [],
   "source": [
    "ans = []"
   ]
  },
  {
   "cell_type": "markdown",
   "metadata": {},
   "source": [
    "> 국어점수가 가장 큰 값을 구하시오"
   ]
  },
  {
   "cell_type": "code",
   "execution_count": 119,
   "metadata": {},
   "outputs": [
    {
     "name": "stdout",
     "output_type": "stream",
     "text": [
      "90\n"
     ]
    }
   ],
   "source": [
    "ans1 = sr.max()\n",
    "print(ans1)"
   ]
  },
  {
   "cell_type": "markdown",
   "metadata": {},
   "source": [
    "> 국어점수가 가장 큰 값의 이름을 구하시오"
   ]
  },
  {
   "cell_type": "code",
   "execution_count": 120,
   "metadata": {},
   "outputs": [
    {
     "name": "stdout",
     "output_type": "stream",
     "text": [
      "이순신\n",
      "이순신    90\n",
      "Name: 국어점수, dtype: int64\n"
     ]
    }
   ],
   "source": [
    "ans2 = sr.idxmax() # 여러개라면 이렇게 하면 안되고 for loop 돌려야함\n",
    "print(ans2)\n",
    "\n",
    "ans2 = sr[sr==(sr.max())]\n",
    "print(ans2)"
   ]
  },
  {
   "cell_type": "markdown",
   "metadata": {},
   "source": [
    "> 국어점수가 80점 이상인 값을 구하시오"
   ]
  },
  {
   "cell_type": "code",
   "execution_count": 121,
   "metadata": {},
   "outputs": [
    {
     "name": "stdout",
     "output_type": "stream",
     "text": [
      "이순신     90\n",
      "이황      80\n",
      "김철수1    88\n",
      "Name: 국어점수, dtype: int64\n"
     ]
    }
   ],
   "source": [
    "ans3 = sr[sr>=80]\n",
    "print(ans3)"
   ]
  },
  {
   "cell_type": "markdown",
   "metadata": {},
   "source": [
    "> 국어점수가 50점 이상 80점 이하인 값을 구하시오"
   ]
  },
  {
   "cell_type": "code",
   "execution_count": 122,
   "metadata": {},
   "outputs": [
    {
     "name": "stdout",
     "output_type": "stream",
     "text": [
      "홍길동    70\n",
      "임꺽정    55\n",
      "정난정    60\n",
      "이이     76\n",
      "이황     80\n",
      "정도전    76\n",
      "Name: 국어점수, dtype: int64\n"
     ]
    }
   ],
   "source": [
    "ans4 = sr[(sr>=50)&(sr<=80)]\n",
    "print(ans4)"
   ]
  },
  {
   "cell_type": "markdown",
   "metadata": {},
   "source": [
    "> 이름이 '김'으로 시작하는 데이터를 구하시오"
   ]
  },
  {
   "cell_type": "code",
   "execution_count": 123,
   "metadata": {},
   "outputs": [
    {
     "name": "stdout",
     "output_type": "stream",
     "text": [
      "김철수1    88\n",
      "김철수2    30\n",
      "김철수3    25\n",
      "Name: 국어점수, dtype: int64\n"
     ]
    }
   ],
   "source": [
    "ans5 = sr[sr.index.str.contains('^김',regex=True)]\n",
    "print(ans5)"
   ]
  },
  {
   "cell_type": "markdown",
   "metadata": {},
   "source": [
    "> 국어점수의 평균을 구하시오"
   ]
  },
  {
   "cell_type": "code",
   "execution_count": 124,
   "metadata": {},
   "outputs": [
    {
     "name": "stdout",
     "output_type": "stream",
     "text": [
      "65.0\n"
     ]
    }
   ],
   "source": [
    "ans6 = sr.mean()\n",
    "print(ans6)"
   ]
  },
  {
   "cell_type": "markdown",
   "metadata": {},
   "source": [
    "> 국어점수의 총합을 구하시오"
   ]
  },
  {
   "cell_type": "code",
   "execution_count": 125,
   "metadata": {},
   "outputs": [
    {
     "name": "stdout",
     "output_type": "stream",
     "text": [
      "650\n"
     ]
    }
   ],
   "source": [
    "ans7 = sr.sum()\n",
    "print(ans7)"
   ]
  },
  {
   "cell_type": "markdown",
   "metadata": {},
   "source": [
    "> 국어점수의 표준편차를 구하시오 "
   ]
  },
  {
   "cell_type": "code",
   "execution_count": 126,
   "metadata": {},
   "outputs": [
    {
     "name": "stdout",
     "output_type": "stream",
     "text": [
      "22.59793500890439\n"
     ]
    }
   ],
   "source": [
    "ans8 = sr.std()\n",
    "print(ans8)"
   ]
  },
  {
   "cell_type": "markdown",
   "metadata": {},
   "source": [
    "> 국어점수가 40점 이하인 데이터를 삭제하시오"
   ]
  },
  {
   "cell_type": "code",
   "execution_count": 127,
   "metadata": {},
   "outputs": [
    {
     "name": "stdout",
     "output_type": "stream",
     "text": [
      "홍길동     70\n",
      "이순신     90\n",
      "임꺽정     55\n",
      "정난정     60\n",
      "이이      76\n",
      "이황      80\n",
      "정도전     76\n",
      "김철수1    88\n",
      "Name: 국어점수, dtype: int64\n"
     ]
    }
   ],
   "source": [
    "ans9 = sr[~(sr<=40)]\n",
    "print(ans9)"
   ]
  },
  {
   "cell_type": "markdown",
   "metadata": {},
   "source": [
    "> 국어점수가 50점이상인 데이터에 가산점 10%를 부여하시오"
   ]
  },
  {
   "cell_type": "code",
   "execution_count": 128,
   "metadata": {},
   "outputs": [
    {
     "name": "stdout",
     "output_type": "stream",
     "text": [
      "김철수2    33.0\n",
      "김철수3    27.5\n",
      "Name: 국어점수, dtype: float64\n"
     ]
    }
   ],
   "source": [
    "ans10 = sr[sr<=50]*1.1\n",
    "print(ans10)"
   ]
  },
  {
   "cell_type": "markdown",
   "metadata": {},
   "source": [
    "> 국어점수 중 top5인 데이터를 구하시오"
   ]
  },
  {
   "cell_type": "code",
   "execution_count": 129,
   "metadata": {},
   "outputs": [
    {
     "name": "stdout",
     "output_type": "stream",
     "text": [
      "이순신     90\n",
      "김철수1    88\n",
      "이황      80\n",
      "정도전     76\n",
      "이이      76\n",
      "Name: 국어점수, dtype: int64\n"
     ]
    }
   ],
   "source": [
    "ans11 = sr.sort_values(ascending=False)[:5]\n",
    "print(ans11)"
   ]
  },
  {
   "cell_type": "markdown",
   "metadata": {},
   "source": [
    "> 국어점수가 50점 이상인 데이터의 Bar Chart를 구하시오"
   ]
  },
  {
   "cell_type": "code",
   "execution_count": 131,
   "metadata": {},
   "outputs": [
    {
     "data": {
      "image/png": "[encoded data removed]",
      "text/plain": [
       "<Figure size 432x288 with 1 Axes>"
      ]
     },
     "metadata": {},
     "output_type": "display_data"
    }
   ],
   "source": [
    "ans12 = sr[sr>=50].sort_values()\n",
    "ans12.plot(kind='bar')\n",
    "plt.show()"
   ]
  },
  {
   "cell_type": "code",
   "execution_count": 132,
   "metadata": {},
   "outputs": [],
   "source": [
    "sr.to_csv('a.csv')"
   ]
  },
  {
   "cell_type": "code",
   "execution_count": 134,
   "metadata": {},
   "outputs": [
    {
     "data": {
      "text/plain": [
       "76    2\n",
       "30    1\n",
       "60    1\n",
       "90    1\n",
       "25    1\n",
       "88    1\n",
       "55    1\n",
       "70    1\n",
       "80    1\n",
       "Name: 국어점수, dtype: int64"
      ]
     },
     "execution_count": 134,
     "metadata": {},
     "output_type": "execute_result"
    }
   ],
   "source": [
    "sr.value_counts()"
   ]
  },
  {
   "cell_type": "code",
   "execution_count": 137,
   "metadata": {},
   "outputs": [
    {
     "data": {
      "text/plain": [
       "홍길동     (62.143, 71.429]\n",
       "이순신       (80.714, 90.0]\n",
       "임꺽정     (52.857, 62.143]\n",
       "정난정     (52.857, 62.143]\n",
       "이이      (71.429, 80.714]\n",
       "이황      (71.429, 80.714]\n",
       "정도전     (71.429, 80.714]\n",
       "김철수1      (80.714, 90.0]\n",
       "김철수2    (24.935, 34.286]\n",
       "김철수3    (24.935, 34.286]\n",
       "Name: 국어점수, dtype: category\n",
       "Categories (7, interval[float64]): [(24.935, 34.286] < (34.286, 43.571] < (43.571, 52.857] < (52.857, 62.143] < (62.143, 71.429] < (71.429, 80.714] < (80.714, 90.0]]"
      ]
     },
     "execution_count": 137,
     "metadata": {},
     "output_type": "execute_result"
    }
   ],
   "source": [
    "ex = sr\n",
    "pd.cut(ex,7)"
   ]
  },
  {
   "cell_type": "code",
   "execution_count": 138,
   "metadata": {},
   "outputs": [
    {
     "data": {
      "text/plain": [
       "(71.429, 80.714]    3\n",
       "(80.714, 90.0]      2\n",
       "(52.857, 62.143]    2\n",
       "(24.935, 34.286]    2\n",
       "(62.143, 71.429]    1\n",
       "(43.571, 52.857]    0\n",
       "(34.286, 43.571]    0\n",
       "Name: 국어점수, dtype: int64"
      ]
     },
     "execution_count": 138,
     "metadata": {},
     "output_type": "execute_result"
    }
   ],
   "source": [
    "pd.cut(ex,7).value_counts()"
   ]
  },
  {
   "cell_type": "code",
   "execution_count": 140,
   "metadata": {},
   "outputs": [
    {
     "data": {
      "image/png": "[encoded data removed]",
      "text/plain": [
       "<Figure size 432x288 with 1 Axes>"
      ]
     },
     "metadata": {},
     "output_type": "display_data"
    }
   ],
   "source": [
    "sr.hist(bins = 7)\n",
    "plt.show()"
   ]
  },
  {
   "cell_type": "markdown",
   "metadata": {},
   "source": [
    "#### 연습문제\n",
    " 13. 이름순으로 정렬하시오\n",
    " 14. 키보드로 입력받아 검색된 이름의 점수를 구하시오\n",
    " 15. 데이터를 다음과 같은 형식을 출력하시오\n",
    "```\n",
    "- - - - - - - - - - - -\n",
    "    이름    국어\n",
    "- - - - - - - - - - - -\n",
    "    홍길동   70\n",
    "        ...\n",
    "```\n",
    " 16. 국어점수 50점 이하는 가산점 20점을 부여하고, 국어점수 50점 초과는 가산점 10점을 부여하시오\n",
    " 17. 국어점수 10퍼, 50퍼, 90퍼에 해당하는 값을 구하시오\n",
    " 18. 국어점수를 5개 점수대로 분할한 경우, 각 도수를 구하시오"
   ]
  },
  {
   "cell_type": "markdown",
   "metadata": {},
   "source": [
    "> 이름순으로 정렬하시오"
   ]
  },
  {
   "cell_type": "code",
   "execution_count": 142,
   "metadata": {},
   "outputs": [
    {
     "data": {
      "text/plain": [
       "김철수1    88\n",
       "김철수2    30\n",
       "김철수3    25\n",
       "이순신     90\n",
       "이이      76\n",
       "이황      80\n",
       "임꺽정     55\n",
       "정난정     60\n",
       "정도전     76\n",
       "홍길동     70\n",
       "Name: 국어점수, dtype: int64"
      ]
     },
     "execution_count": 142,
     "metadata": {},
     "output_type": "execute_result"
    }
   ],
   "source": [
    "ans13 = sr.sort_index()\n",
    "ans13"
   ]
  },
  {
   "cell_type": "markdown",
   "metadata": {},
   "source": [
    "> 키보드로 입력받아 검색된 이름의 점수를 구하시오"
   ]
  },
  {
   "cell_type": "code",
   "execution_count": 152,
   "metadata": {},
   "outputs": [
    {
     "data": {
      "text/plain": [
       "70"
      ]
     },
     "execution_count": 152,
     "metadata": {},
     "output_type": "execute_result"
    }
   ],
   "source": [
    "name = input()\n",
    "ans14 = sr[name]\n",
    "ans14"
   ]
  },
  {
   "cell_type": "markdown",
   "metadata": {},
   "source": [
    "> 데이터를 다음과 같은 형식을 출력하시오\n",
    "```\n",
    "- - - - - - - - - - - -\n",
    "    이름    국어\n",
    "- - - - - - - - - - - -\n",
    "    홍길동   70\n",
    "        ...\n",
    "```"
   ]
  },
  {
   "cell_type": "code",
   "execution_count": 149,
   "metadata": {},
   "outputs": [
    {
     "name": "stdout",
     "output_type": "stream",
     "text": [
      "이름  국어\n",
      "--------\n",
      "홍길동 70\n",
      "이순신 90\n",
      "임꺽정 55\n",
      "정난정 60\n",
      "이이 76\n",
      "이황 80\n",
      "정도전 76\n",
      "김철수1 88\n",
      "김철수2 30\n",
      "김철수3 25\n"
     ]
    }
   ],
   "source": [
    "print('이름  국어')\n",
    "print('--------')\n",
    "for i,v in sr.items():\n",
    "    print(i,v)"
   ]
  },
  {
   "cell_type": "markdown",
   "metadata": {},
   "source": [
    "> 국어점수 50점 이하는 가산점 20점을 부여하고, 국어점수 50점 초과는 가산점 10점을 부여하시오"
   ]
  },
  {
   "cell_type": "code",
   "execution_count": 151,
   "metadata": {},
   "outputs": [
    {
     "name": "stdout",
     "output_type": "stream",
     "text": [
      "김철수2    50\n",
      "김철수3    45\n",
      "Name: 국어점수, dtype: int64\n",
      "홍길동      80\n",
      "이순신     100\n",
      "임꺽정      65\n",
      "정난정      70\n",
      "이이       86\n",
      "이황       90\n",
      "정도전      86\n",
      "김철수1     98\n",
      "Name: 국어점수, dtype: int64\n"
     ]
    }
   ],
   "source": [
    "print(sr[sr<=50]+20)\n",
    "print(sr[~(sr<=50)]+10)"
   ]
  },
  {
   "cell_type": "markdown",
   "metadata": {},
   "source": [
    "> 국어점수 10퍼, 50퍼, 90퍼에 해당하는 값을 구하시오"
   ]
  },
  {
   "cell_type": "code",
   "execution_count": 154,
   "metadata": {},
   "outputs": [
    {
     "data": {
      "text/plain": [
       "0.1    29.5\n",
       "0.5    73.0\n",
       "0.9    88.2\n",
       "Name: 국어점수, dtype: float64"
      ]
     },
     "execution_count": 154,
     "metadata": {},
     "output_type": "execute_result"
    }
   ],
   "source": [
    "ans17 = sr.quantile([0.1,0.5,0.9])\n",
    "ans17"
   ]
  },
  {
   "cell_type": "markdown",
   "metadata": {},
   "source": [
    "> 국어점수를 5개 점수대로 분할한 경우, 각 도수를 구하시오"
   ]
  },
  {
   "cell_type": "code",
   "execution_count": 155,
   "metadata": {},
   "outputs": [
    {
     "data": {
      "text/plain": [
       "홍길동       (64.0, 77.0]\n",
       "이순신       (77.0, 90.0]\n",
       "임꺽정       (51.0, 64.0]\n",
       "정난정       (51.0, 64.0]\n",
       "이이        (64.0, 77.0]\n",
       "이황        (77.0, 90.0]\n",
       "정도전       (64.0, 77.0]\n",
       "김철수1      (77.0, 90.0]\n",
       "김철수2    (24.935, 38.0]\n",
       "김철수3    (24.935, 38.0]\n",
       "Name: 국어점수, dtype: category\n",
       "Categories (5, interval[float64]): [(24.935, 38.0] < (38.0, 51.0] < (51.0, 64.0] < (64.0, 77.0] < (77.0, 90.0]]"
      ]
     },
     "execution_count": 155,
     "metadata": {},
     "output_type": "execute_result"
    }
   ],
   "source": [
    "pd.cut(sr,5)"
   ]
  }
 ],
 "metadata": {
  "kernelspec": {
   "display_name": "Python 3",
   "language": "python",
   "name": "python3"
  },
  "language_info": {
   "codemirror_mode": {
    "name": "ipython",
    "version": 3
   },
   "file_extension": ".py",
   "mimetype": "text/x-python",
   "name": "python",
   "nbconvert_exporter": "python",
   "pygments_lexer": "ipython3",
   "version": "3.6.5"
  }
 },
 "nbformat": 4,
 "nbformat_minor": 2
}
