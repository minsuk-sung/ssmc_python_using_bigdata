{
 "cells": [
  {
   "cell_type": "markdown",
   "metadata": {},
   "source": [
    "### 1. Pandas 시작하기\n",
    "\n",
    "분석을 하기 전에는 아래와 같은 과정을 거친다\n",
    "\n",
    "> 데이터 수집 -> 데이터 전처리 -> 데이터 (통계)분석 ( 시각화 )\n",
    "\n",
    "데이터는 보통 **txt,csv,excel,xml,json,html** 등의 형태가 있다. 이러한 데이터를 가지고 전처리와 분석을 하는 역할을 해주는게 Pandas라고 생각하면 된다.\n",
    "\n",
    "---\n",
    "\n",
    "#### 1.1 Pandas 데이터 타입\n",
    "\n",
    "Pandas에서는 크게 2가지 데이터 타입이 존재한다.\n",
    "- 1차원 데이터 : Series\n",
    "- 2차원 데이터 : DataFrame"
   ]
  },
  {
   "cell_type": "code",
   "execution_count": 3,
   "metadata": {},
   "outputs": [],
   "source": [
    "import numpy as np # pandas가 numpy를 이용하므로 항상 같이 import해주자\n",
    "import pandas as pd"
   ]
  },
  {
   "cell_type": "code",
   "execution_count": 7,
   "metadata": {},
   "outputs": [],
   "source": [
    "myList = [10,20,30,40] # list - 1차원\n",
    "d = { 'aa':10, 'bb':20, 'cc':30 } # dict - 1차원\n",
    "t = (10,20,30,40) # tuple - 1차원"
   ]
  },
  {
   "cell_type": "code",
   "execution_count": 8,
   "metadata": {},
   "outputs": [],
   "source": [
    "myList1 = [(10,20),(30,40),(50,60)] # 2차원\n",
    "myList2 = [[10,20],[30,40],[50,60]] # 2차원\n",
    "d1 = [{'aa':10,'bb':20},{'cc':30,'dd':40}] #2차원\n",
    "d2 = {'kor':[10,20,30],'eng':[40,50,60]} # 2차원"
   ]
  },
  {
   "cell_type": "markdown",
   "metadata": {},
   "source": [
    "---\n",
    "\n",
    "##### 1.1.1 1차원 데이터\n",
    "\n",
    "→ **series**를 이용한다."
   ]
  },
  {
   "cell_type": "code",
   "execution_count": 10,
   "metadata": {},
   "outputs": [
    {
     "data": {
      "text/plain": [
       "0    10\n",
       "1    20\n",
       "2    30\n",
       "3    40\n",
       "dtype: int32"
      ]
     },
     "execution_count": 10,
     "metadata": {},
     "output_type": "execute_result"
    }
   ],
   "source": [
    "sr = pd.Series([10,20,30,40],dtype=np.int32) # dtype의 기본은 int64\n",
    "sr # 앞에는 인덱스 뒤에는 값이 출력된다"
   ]
  },
  {
   "cell_type": "code",
   "execution_count": 12,
   "metadata": {},
   "outputs": [
    {
     "data": {
      "text/plain": [
       "aa    10\n",
       "bb    20\n",
       "cc    30\n",
       "dd    40\n",
       "dtype: int64"
      ]
     },
     "execution_count": 12,
     "metadata": {},
     "output_type": "execute_result"
    }
   ],
   "source": [
    "sr = pd.Series([10,20,30,40],index = ['aa','bb','cc','dd']) #index의 기본은 0,1,2...\n",
    "sr"
   ]
  },
  {
   "cell_type": "code",
   "execution_count": 14,
   "metadata": {},
   "outputs": [
    {
     "data": {
      "text/plain": [
       "aa    10\n",
       "bb    20\n",
       "cc    30\n",
       "dtype: int64"
      ]
     },
     "execution_count": 14,
     "metadata": {},
     "output_type": "execute_result"
    }
   ],
   "source": [
    "sr = pd.Series({'aa':10,'bb':20,'cc':30})\n",
    "sr"
   ]
  },
  {
   "cell_type": "markdown",
   "metadata": {},
   "source": [
    "Series 객체의 속성에 대해서 알아보자!  \n",
    "그 중에서 속성, 인덱스 슬라이싱, 메소드를 자세하게 알아보자"
   ]
  },
  {
   "cell_type": "code",
   "execution_count": 15,
   "metadata": {},
   "outputs": [
    {
     "data": {
      "text/plain": [
       "aa    10\n",
       "bb    20\n",
       "cc    30\n",
       "dd    40\n",
       "dtype: int64"
      ]
     },
     "execution_count": 15,
     "metadata": {},
     "output_type": "execute_result"
    }
   ],
   "source": [
    "sr = pd.Series([10,20,30,40], index=['aa','bb','cc','dd'])\n",
    "sr"
   ]
  },
  {
   "cell_type": "code",
   "execution_count": 18,
   "metadata": {},
   "outputs": [
    {
     "data": {
      "text/plain": [
       "1"
      ]
     },
     "execution_count": 18,
     "metadata": {},
     "output_type": "execute_result"
    }
   ],
   "source": [
    "sr.ndim # 차원"
   ]
  },
  {
   "cell_type": "code",
   "execution_count": 19,
   "metadata": {},
   "outputs": [
    {
     "data": {
      "text/plain": [
       "(4,)"
      ]
     },
     "execution_count": 19,
     "metadata": {},
     "output_type": "execute_result"
    }
   ],
   "source": [
    "sr.shape # 4행...리턴은 행렬인 tuple이 나온다"
   ]
  },
  {
   "cell_type": "code",
   "execution_count": 20,
   "metadata": {},
   "outputs": [
    {
     "data": {
      "text/plain": [
       "4"
      ]
     },
     "execution_count": 20,
     "metadata": {},
     "output_type": "execute_result"
    }
   ],
   "source": [
    "sr.size # 전체 데이터의 갯수가 나온다"
   ]
  },
  {
   "cell_type": "code",
   "execution_count": 21,
   "metadata": {},
   "outputs": [
    {
     "data": {
      "text/plain": [
       "Index(['aa', 'bb', 'cc', 'dd'], dtype='object')"
      ]
     },
     "execution_count": 21,
     "metadata": {},
     "output_type": "execute_result"
    }
   ],
   "source": [
    "sr.index # series의 index만 list로 추출"
   ]
  },
  {
   "cell_type": "code",
   "execution_count": 23,
   "metadata": {},
   "outputs": [
    {
     "data": {
      "text/plain": [
       "array([10, 20, 30, 40])"
      ]
     },
     "execution_count": 23,
     "metadata": {},
     "output_type": "execute_result"
    }
   ],
   "source": [
    "sr.values # 값만 나오게 하자"
   ]
  },
  {
   "cell_type": "markdown",
   "metadata": {},
   "source": [
    "index slicing에 대해서 알아보자!!  "
   ]
  },
  {
   "cell_type": "code",
   "execution_count": 30,
   "metadata": {},
   "outputs": [
    {
     "name": "stdout",
     "output_type": "stream",
     "text": [
      "10\n",
      "40\n"
     ]
    }
   ],
   "source": [
    "print(sr[0])\n",
    "print(sr[-1]) # python의 기본 자료형인 list와 같이"
   ]
  },
  {
   "cell_type": "code",
   "execution_count": 29,
   "metadata": {},
   "outputs": [
    {
     "name": "stdout",
     "output_type": "stream",
     "text": [
      "10\n",
      "30\n"
     ]
    }
   ],
   "source": [
    "print(sr['aa'])\n",
    "print(sr['cc'])"
   ]
  },
  {
   "cell_type": "markdown",
   "metadata": {},
   "source": [
    "series에서는 slicing의 결과값이 series 객체로 리턴된다."
   ]
  },
  {
   "cell_type": "code",
   "execution_count": 33,
   "metadata": {},
   "outputs": [
    {
     "name": "stdout",
     "output_type": "stream",
     "text": [
      "bb    20\n",
      "cc    30\n",
      "dd    40\n",
      "dtype: int64\n"
     ]
    }
   ],
   "source": [
    "print(sr[1:4]) # a는 출력하지 않는다"
   ]
  },
  {
   "cell_type": "code",
   "execution_count": 35,
   "metadata": {},
   "outputs": [
    {
     "data": {
      "text/plain": [
       "aa    10\n",
       "bb    20\n",
       "cc    30\n",
       "dtype: int64"
      ]
     },
     "execution_count": 35,
     "metadata": {},
     "output_type": "execute_result"
    }
   ],
   "source": [
    "sr['aa':'cc'] # 부여된 index에서는 'cc'가 포함된다"
   ]
  },
  {
   "cell_type": "code",
   "execution_count": 39,
   "metadata": {},
   "outputs": [
    {
     "name": "stdout",
     "output_type": "stream",
     "text": [
      "10\n",
      "10\n"
     ]
    }
   ],
   "source": [
    "print(sr.iloc[0]) # == sr[0] ... 0번째 위치 \n",
    "# sr.iloc['aa'] => Error\n",
    "print(sr.loc['aa']) # 반드시 부여된 index를 써야한다"
   ]
  },
  {
   "cell_type": "markdown",
   "metadata": {},
   "source": [
    "iloc : index에서 반드시 Zero Base index를 주어야한다. 즉, 아무것도 부여 안되면 default로 부여되는 index  \n",
    "loc : 부여된 index를 써야한다  \n",
    "\n",
    "그럼 왜 따로 iloc,loc을 쓸까?"
   ]
  },
  {
   "cell_type": "code",
   "execution_count": 43,
   "metadata": {},
   "outputs": [
    {
     "data": {
      "text/plain": [
       "40"
      ]
     },
     "execution_count": 43,
     "metadata": {},
     "output_type": "execute_result"
    }
   ],
   "source": [
    "sr = pd.Series([10,20,30,40],index = [0,1,2,3])\n",
    "# print(sr[-1]) ERROR!! -> 부여된 index에서 -1가 없기 때문에 Error가 생긴다\n",
    "sr.iloc[-1] # zerobase로 찾으라고 명시하면 찾을 수 있다"
   ]
  },
  {
   "cell_type": "markdown",
   "metadata": {},
   "source": [
    "위와 같은 경우 때문에 iloc과 loc을 구분해서 사용한다"
   ]
  },
  {
   "cell_type": "markdown",
   "metadata": {},
   "source": [
    "Series 객체를 사용할때 Method에 대해서 알아보자"
   ]
  },
  {
   "cell_type": "code",
   "execution_count": 45,
   "metadata": {},
   "outputs": [],
   "source": [
    "sr = pd.Series([10,20,30,40], index=['aa','bb','cc','dd'])"
   ]
  },
  {
   "cell_type": "code",
   "execution_count": 47,
   "metadata": {},
   "outputs": [
    {
     "data": {
      "text/plain": [
       "10"
      ]
     },
     "execution_count": 47,
     "metadata": {},
     "output_type": "execute_result"
    }
   ],
   "source": [
    "sr.aa # index가 string인 경우 이렇게 속성처럼 사용할 수 있다. 하지만 조심해야한다.\n",
    "# 그래서 확실하게 하고 싶으면 sr['aa']로 하자! "
   ]
  },
  {
   "cell_type": "code",
   "execution_count": 49,
   "metadata": {},
   "outputs": [
    {
     "data": {
      "text/plain": [
       "aa    12\n",
       "bb    22\n",
       "cc    32\n",
       "dd    42\n",
       "dtype: int64"
      ]
     },
     "execution_count": 49,
     "metadata": {},
     "output_type": "execute_result"
    }
   ],
   "source": [
    "sr+2 # list에서는 안되는 문법\n",
    "# Series에서는 개별 데이터에 대해서 더해준다"
   ]
  },
  {
   "cell_type": "code",
   "execution_count": 50,
   "metadata": {},
   "outputs": [
    {
     "data": {
      "text/plain": [
       "aa    20\n",
       "bb    40\n",
       "cc    60\n",
       "dd    80\n",
       "dtype: int64"
      ]
     },
     "execution_count": 50,
     "metadata": {},
     "output_type": "execute_result"
    }
   ],
   "source": [
    "sr*2"
   ]
  },
  {
   "cell_type": "code",
   "execution_count": 51,
   "metadata": {},
   "outputs": [],
   "source": [
    "sr1 = pd.Series([10,20,30,40], index=['aa','bb','cc','dd'])\n",
    "sr2 = pd.Series([1,2,3,4], index=['aa','bb','cc','dd'])"
   ]
  },
  {
   "cell_type": "code",
   "execution_count": 53,
   "metadata": {},
   "outputs": [
    {
     "data": {
      "text/plain": [
       "aa     10\n",
       "bb     40\n",
       "cc     90\n",
       "dd    160\n",
       "dtype: int64"
      ]
     },
     "execution_count": 53,
     "metadata": {},
     "output_type": "execute_result"
    }
   ],
   "source": [
    "sr1*sr2 # 각 행열의 개별 데이터끼리 곱한 값이 나온다"
   ]
  },
  {
   "cell_type": "markdown",
   "metadata": {},
   "source": [
    "여기서 잠깐 문제!\n",
    "> Q. 각각 연봉 데이터에 대해서 세금 **3.3퍼센트를 제외한 실수령액**을 구하시오"
   ]
  },
  {
   "cell_type": "code",
   "execution_count": 54,
   "metadata": {},
   "outputs": [
    {
     "data": {
      "text/plain": [
       "0     967.0\n",
       "1    1934.0\n",
       "2    2901.0\n",
       "3    3868.0\n",
       "dtype: float64"
      ]
     },
     "execution_count": 54,
     "metadata": {},
     "output_type": "execute_result"
    }
   ],
   "source": [
    "salary = pd.Series([1000,2000,3000,4000])\n",
    "salary*0.967"
   ]
  },
  {
   "cell_type": "markdown",
   "metadata": {},
   "source": [
    "list에는 없고 Series에서만 있는 **Boolean indexing** 방법에 대해서 알아보자"
   ]
  },
  {
   "cell_type": "code",
   "execution_count": 58,
   "metadata": {},
   "outputs": [
    {
     "data": {
      "text/plain": [
       "cc    30\n",
       "dd    40\n",
       "dtype: int64"
      ]
     },
     "execution_count": 58,
     "metadata": {},
     "output_type": "execute_result"
    }
   ],
   "source": [
    "sr[[False,False,True,True]] # True인 것에 대해서만 출력되는 것을 알 수 있다"
   ]
  },
  {
   "cell_type": "markdown",
   "metadata": {},
   "source": [
    "Series에서는 **관계 연산자**도 쓸 수 있다.  \n",
    "그럼 만족하는 데이터에 대해서 True,False를 출력한다."
   ]
  },
  {
   "cell_type": "code",
   "execution_count": 59,
   "metadata": {},
   "outputs": [
    {
     "data": {
      "text/plain": [
       "aa    False\n",
       "bb    False\n",
       "cc     True\n",
       "dd     True\n",
       "dtype: bool"
      ]
     },
     "execution_count": 59,
     "metadata": {},
     "output_type": "execute_result"
    }
   ],
   "source": [
    "sr > 20"
   ]
  },
  {
   "cell_type": "code",
   "execution_count": 60,
   "metadata": {},
   "outputs": [
    {
     "data": {
      "text/plain": [
       "cc    30\n",
       "dd    40\n",
       "dtype: int64"
      ]
     },
     "execution_count": 60,
     "metadata": {},
     "output_type": "execute_result"
    }
   ],
   "source": [
    "sr[sr > 20] # 결국 이건 sr [ [False,False,True,True] ] 와 동일한 표현이다"
   ]
  },
  {
   "cell_type": "code",
   "execution_count": null,
   "metadata": {},
   "outputs": [],
   "source": []
  }
 ],
 "metadata": {
  "kernelspec": {
   "display_name": "Python 3",
   "language": "python",
   "name": "python3"
  },
  "language_info": {
   "codemirror_mode": {
    "name": "ipython",
    "version": 3
   },
   "file_extension": ".py",
   "mimetype": "text/x-python",
   "name": "python",
   "nbconvert_exporter": "python",
   "pygments_lexer": "ipython3",
   "version": "3.6.5"
  }
 },
 "nbformat": 4,
 "nbformat_minor": 2
}
