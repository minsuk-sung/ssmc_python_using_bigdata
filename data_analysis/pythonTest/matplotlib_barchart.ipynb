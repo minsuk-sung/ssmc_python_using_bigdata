{
 "cells": [
  {
   "cell_type": "code",
   "execution_count": 1,
   "metadata": {},
   "outputs": [],
   "source": [
    "import numpy as np\n",
    "import pandas as pd\n",
    "import matplotlib.pyplot as plt\n",
    "import matplotlib\n",
    "matplotlib.rcParams['font.family'] = 'AppleGothic'\n",
    "matplotlib.rcParams['axes.unicode_minus']=False"
   ]
  },
  {
   "cell_type": "code",
   "execution_count": 11,
   "metadata": {},
   "outputs": [
    {
     "data": {
      "image/png": "[encoded data removed]",
      "text/plain": [
       "<Figure size 432x288 with 1 Axes>"
      ]
     },
     "metadata": {},
     "output_type": "display_data"
    }
   ],
   "source": [
    "colors = ['r','g','b','y']\n",
    "x = ['홍길동','이순신','임꺽정','이이']\n",
    "# sorting하고 싶다면\n",
    "# sorted(x)\n",
    "# pandas의 Series일 경우에는 sort_values()를 통해서도 가능\n",
    "y = [90,70,55,80]\n",
    "plt.barh(x,y,color=colors) \n",
    "plt.show()"
   ]
  },
  {
   "cell_type": "code",
   "execution_count": 25,
   "metadata": {},
   "outputs": [
    {
     "data": {
      "image/png": "[encoded data removed]",
      "text/plain": [
       "<Figure size 432x288 with 1 Axes>"
      ]
     },
     "metadata": {},
     "output_type": "display_data"
    }
   ],
   "source": [
    "colors = ['r','g','b','y']\n",
    "xLabel = ['홍길동','이순신','임꺽정','이이']\n",
    "x = pd.Series([1,2,3,4])\n",
    "kor = [90,80,87,70]\n",
    "eng = [80,70,80,90]\n",
    "plt.xticks(x+0.2,xLabel) # 라벨을 중간에 놓게 하기 위해서 0.2 더함\n",
    "plt.bar(x,kor,color='r',width=0.4,label='국어') # 가려질수도\n",
    "plt.bar(x+0.4,eng,color='b',width=0.4,label='영어')\n",
    "plt.xlabel('이름')\n",
    "plt.7label('ㅈ름')\n",
    "plt.show()"
   ]
  },
  {
   "cell_type": "code",
   "execution_count": null,
   "metadata": {},
   "outputs": [],
   "source": []
  }
 ],
 "metadata": {
  "kernelspec": {
   "display_name": "Python 3",
   "language": "python",
   "name": "python3"
  },
  "language_info": {
   "codemirror_mode": {
    "name": "ipython",
    "version": 3
   },
   "file_extension": ".py",
   "mimetype": "text/x-python",
   "name": "python",
   "nbconvert_exporter": "python",
   "pygments_lexer": "ipython3",
   "version": "3.6.5"
  }
 },
 "nbformat": 4,
 "nbformat_minor": 2
}
