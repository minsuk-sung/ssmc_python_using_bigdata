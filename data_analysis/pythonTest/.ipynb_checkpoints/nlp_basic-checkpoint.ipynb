{
 "cells": [
  {
   "cell_type": "markdown",
   "metadata": {},
   "source": [
    "### 자연어처리(NLP) 맛보기\n",
    "\n",
    "#### Java 설치하기\n",
    "```\n",
    "https://www.oracle.com/technetwork/java/javase/downloads/index.html\n",
    "```\n",
    "으로 접속해서 **Java SE 8 버전(x64)**을 설치한다.\n",
    "\n",
    "#### **konlpy** 패키지 설치하기\n",
    "konlpy와 함께 가장 많이 쓰는 라이브러리는 **NLTK**이지만 여기서는 konlpy를 쓰기로 한다.\n",
    "```\n",
    "conda install -c conda-forge jpype1\n",
    "pip install konlpy\n",
    "```"
   ]
  },
  {
   "cell_type": "code",
   "execution_count": 27,
   "metadata": {},
   "outputs": [],
   "source": [
    "from konlpy.tag import Okt"
   ]
  },
  {
   "cell_type": "code",
   "execution_count": 28,
   "metadata": {},
   "outputs": [],
   "source": [
    "s = '''\n",
    "나는 자랑스러운 태극기 앞에\n",
    "'''"
   ]
  },
  {
   "cell_type": "code",
   "execution_count": 29,
   "metadata": {},
   "outputs": [
    {
     "data": {
      "text/plain": [
       "['나', '태극기', '앞']"
      ]
     },
     "execution_count": 29,
     "metadata": {},
     "output_type": "execute_result"
    }
   ],
   "source": [
    "t = Okt()\n",
    "t.nouns(s)"
   ]
  },
  {
   "cell_type": "code",
   "execution_count": 30,
   "metadata": {},
   "outputs": [
    {
     "data": {
      "text/plain": [
       "[('\\n', 'Foreign'),\n",
       " ('나', 'Noun'),\n",
       " ('는', 'Josa'),\n",
       " ('자랑스러운', 'Adjective'),\n",
       " ('태극기', 'Noun'),\n",
       " ('앞', 'Noun'),\n",
       " ('에', 'Josa'),\n",
       " ('\\n', 'Foreign')]"
      ]
     },
     "execution_count": 30,
     "metadata": {},
     "output_type": "execute_result"
    }
   ],
   "source": [
    "t.pos(s)"
   ]
  },
  {
   "cell_type": "markdown",
   "metadata": {},
   "source": [
    "collections 패키지에서 Counter라는 객체는 숫자를 세주는 역할을 한다"
   ]
  },
  {
   "cell_type": "code",
   "execution_count": 31,
   "metadata": {},
   "outputs": [],
   "source": [
    "from collections import Counter #"
   ]
  },
  {
   "cell_type": "code",
   "execution_count": 32,
   "metadata": {},
   "outputs": [
    {
     "data": {
      "text/plain": [
       "Counter({1: 2, 2: 2, 3: 3})"
      ]
     },
     "execution_count": 32,
     "metadata": {},
     "output_type": "execute_result"
    }
   ],
   "source": [
    "my = [1,1,2,3,3,3,2]\n",
    "c = Counter(my)\n",
    "c"
   ]
  },
  {
   "cell_type": "code",
   "execution_count": 33,
   "metadata": {},
   "outputs": [
    {
     "name": "stdout",
     "output_type": "stream",
     "text": [
      "[(3, 3), (1, 2), (2, 2)]\n"
     ]
    }
   ],
   "source": [
    "print(c.most_common())"
   ]
  },
  {
   "cell_type": "code",
   "execution_count": 34,
   "metadata": {},
   "outputs": [
    {
     "data": {
      "text/plain": [
       "[('나', 1), ('태극기', 1), ('앞', 1)]"
      ]
     },
     "execution_count": 34,
     "metadata": {},
     "output_type": "execute_result"
    }
   ],
   "source": [
    "c = Counter(t.nouns(s))\n",
    "c.most_common()"
   ]
  },
  {
   "cell_type": "markdown",
   "metadata": {},
   "source": [
    "경제 관련된 뉴스 기사 링크를 따오기 위해서 새로운 라이브러리 설치한다\n",
    "```\n",
    "pip install feedparser\n",
    "```"
   ]
  },
  {
   "cell_type": "code",
   "execution_count": 35,
   "metadata": {},
   "outputs": [],
   "source": [
    "import feedparser"
   ]
  },
  {
   "cell_type": "code",
   "execution_count": 38,
   "metadata": {},
   "outputs": [
    {
     "data": {
      "text/plain": [
       "['https://news.joins.com/article/23319967?cloc=rss|news|economy',\n",
       " 'https://news.joins.com/article/23319970?cloc=rss|news|economy',\n",
       " 'https://news.joins.com/article/23319961?cloc=rss|news|economy',\n",
       " 'https://news.joins.com/article/23319963?cloc=rss|news|economy',\n",
       " 'https://news.joins.com/article/23319962?cloc=rss|news|economy',\n",
       " 'https://news.joins.com/article/23319957?cloc=rss|news|economy',\n",
       " 'https://news.joins.com/article/23319948?cloc=rss|news|economy',\n",
       " 'https://news.joins.com/article/23319949?cloc=rss|news|economy',\n",
       " 'https://news.joins.com/article/23319950?cloc=rss|news|economy',\n",
       " 'https://news.joins.com/article/23319943?cloc=rss|news|economy',\n",
       " 'https://news.joins.com/article/23319945?cloc=rss|news|economy',\n",
       " 'https://news.joins.com/article/23319935?cloc=rss|news|economy',\n",
       " 'https://news.joins.com/article/23319934?cloc=rss|news|economy',\n",
       " 'https://news.joins.com/article/23319904?cloc=rss|news|economy',\n",
       " 'https://news.joins.com/article/23319896?cloc=rss|news|economy',\n",
       " 'https://news.joins.com/article/23319892?cloc=rss|news|economy',\n",
       " 'https://news.joins.com/article/23319886?cloc=rss|news|economy',\n",
       " 'https://news.joins.com/article/23319888?cloc=rss|news|economy',\n",
       " 'https://news.joins.com/article/23319887?cloc=rss|news|economy',\n",
       " 'https://news.joins.com/article/23319881?cloc=rss|news|economy',\n",
       " 'https://news.joins.com/article/23319880?cloc=rss|news|economy',\n",
       " 'https://news.joins.com/article/23319879?cloc=rss|news|economy',\n",
       " 'https://news.joins.com/article/23319877?cloc=rss|news|economy',\n",
       " 'https://news.joins.com/article/23319874?cloc=rss|news|economy',\n",
       " 'https://news.joins.com/article/23319869?cloc=rss|news|economy',\n",
       " 'https://news.joins.com/article/23319864?cloc=rss|news|economy',\n",
       " 'https://news.joins.com/article/23319867?cloc=rss|news|economy',\n",
       " 'https://news.joins.com/article/23319870?cloc=rss|news|economy',\n",
       " 'https://news.joins.com/article/23319868?cloc=rss|news|economy',\n",
       " 'https://news.joins.com/article/23319865?cloc=rss|news|economy']"
      ]
     },
     "execution_count": 38,
     "metadata": {},
     "output_type": "execute_result"
    }
   ],
   "source": [
    "url = 'https://rss.joins.com/joins_money_list.xml'\n",
    "jfeed = feedparser.parse(url)\n",
    "links = [entry['link'] for entry in jfeed['entries']]\n",
    "links"
   ]
  },
  {
   "cell_type": "markdown",
   "metadata": {},
   "source": [
    "받은 링크를 통해서 기사 글자만 뽑아오기 위한 라이브러리를 설치하자\n",
    "```\n",
    "pip3 install newspaper3k\n",
    "```"
   ]
  },
  {
   "cell_type": "code",
   "execution_count": 39,
   "metadata": {},
   "outputs": [],
   "source": [
    "import newspaper"
   ]
  },
  {
   "cell_type": "code",
   "execution_count": 40,
   "metadata": {},
   "outputs": [
    {
     "name": "stdout",
     "output_type": "stream",
     "text": [
      "https://news.joins.com/article/23319967?cloc=rss|news|economy\n",
      "https://news.joins.com/article/23319970?cloc=rss|news|economy\n",
      "https://news.joins.com/article/23319961?cloc=rss|news|economy\n",
      "https://news.joins.com/article/23319963?cloc=rss|news|economy\n",
      "https://news.joins.com/article/23319962?cloc=rss|news|economy\n",
      "https://news.joins.com/article/23319957?cloc=rss|news|economy\n",
      "https://news.joins.com/article/23319948?cloc=rss|news|economy\n",
      "https://news.joins.com/article/23319949?cloc=rss|news|economy\n",
      "https://news.joins.com/article/23319950?cloc=rss|news|economy\n",
      "https://news.joins.com/article/23319943?cloc=rss|news|economy\n",
      "https://news.joins.com/article/23319945?cloc=rss|news|economy\n",
      "https://news.joins.com/article/23319935?cloc=rss|news|economy\n",
      "https://news.joins.com/article/23319934?cloc=rss|news|economy\n",
      "https://news.joins.com/article/23319904?cloc=rss|news|economy\n",
      "https://news.joins.com/article/23319896?cloc=rss|news|economy\n",
      "https://news.joins.com/article/23319892?cloc=rss|news|economy\n",
      "https://news.joins.com/article/23319886?cloc=rss|news|economy\n",
      "https://news.joins.com/article/23319888?cloc=rss|news|economy\n",
      "https://news.joins.com/article/23319887?cloc=rss|news|economy\n",
      "https://news.joins.com/article/23319881?cloc=rss|news|economy\n",
      "https://news.joins.com/article/23319880?cloc=rss|news|economy\n",
      "https://news.joins.com/article/23319879?cloc=rss|news|economy\n",
      "https://news.joins.com/article/23319877?cloc=rss|news|economy\n",
      "https://news.joins.com/article/23319874?cloc=rss|news|economy\n",
      "https://news.joins.com/article/23319869?cloc=rss|news|economy\n",
      "https://news.joins.com/article/23319864?cloc=rss|news|economy\n",
      "https://news.joins.com/article/23319867?cloc=rss|news|economy\n",
      "https://news.joins.com/article/23319870?cloc=rss|news|economy\n",
      "https://news.joins.com/article/23319868?cloc=rss|news|economy\n",
      "https://news.joins.com/article/23319865?cloc=rss|news|economy\n"
     ]
    }
   ],
   "source": [
    "myTxt = ''\n",
    "for lnk in links:\n",
    "    article = newspaper.Article(lnk,language='ko')\n",
    "    article.download()\n",
    "    article.parse()\n",
    "    myTxt += article.text\n"
   ]
  },
  {
   "cell_type": "code",
   "execution_count": null,
   "metadata": {},
   "outputs": [],
   "source": []
  }
 ],
 "metadata": {
  "kernelspec": {
   "display_name": "Python 3",
   "language": "python",
   "name": "python3"
  },
  "language_info": {
   "codemirror_mode": {
    "name": "ipython",
    "version": 3
   },
   "file_extension": ".py",
   "mimetype": "text/x-python",
   "name": "python",
   "nbconvert_exporter": "python",
   "pygments_lexer": "ipython3",
   "version": "3.6.5"
  }
 },
 "nbformat": 4,
 "nbformat_minor": 2
}
