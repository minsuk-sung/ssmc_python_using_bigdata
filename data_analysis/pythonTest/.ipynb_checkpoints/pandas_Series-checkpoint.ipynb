{
 "cells": [
  {
   "cell_type": "markdown",
   "metadata": {},
   "source": [
    "### 1. Pandas 시작하기\n",
    "\n",
    "분석을 하기 전에는 아래와 같은 과정을 거친다\n",
    "\n",
    "> 데이터 수집 -> 데이터 전처리 -> 데이터 (통계)분석 > 데이터 시각화\n",
    "\n",
    "데이터는 보통 **txt,csv,excel,xml,json,html** 등의 형태가 있다. 이러한 데이터를 가지고 전처리와 분석을 하는 역할을 해주는게 Pandas라고 생각하면 된다.\n",
    "\n",
    "---\n",
    "\n",
    "#### 1.1 Pandas 데이터 타입\n",
    "\n",
    "Pandas에서는 크게 2가지 데이터 타입이 존재한다.\n",
    "- **1차원 데이터 : Series**\n",
    "- 2차원 데이터 : DataFrame"
   ]
  },
  {
   "cell_type": "code",
   "execution_count": 3,
   "metadata": {},
   "outputs": [],
   "source": [
    "import numpy as np # pandas가 numpy를 이용하므로 항상 같이 import해주자\n",
    "import pandas as pd"
   ]
  },
  {
   "cell_type": "code",
   "execution_count": 4,
   "metadata": {},
   "outputs": [],
   "source": [
    "myList = [10,20,30,40] # list - 1차원\n",
    "d = { 'aa':10, 'bb':20, 'cc':30 } # dict - 1차원\n",
    "t = (10,20,30,40) # tuple - 1차원"
   ]
  },
  {
   "cell_type": "code",
   "execution_count": 5,
   "metadata": {},
   "outputs": [],
   "source": [
    "myList1 = [(10,20),(30,40),(50,60)] # 2차원\n",
    "myList2 = [[10,20],[30,40],[50,60]] # 2차원\n",
    "d1 = [{'aa':10,'bb':20},{'cc':30,'dd':40}] #2차원\n",
    "d2 = {'kor':[10,20,30],'eng':[40,50,60]} # 2차원"
   ]
  },
  {
   "cell_type": "markdown",
   "metadata": {},
   "source": [
    "---\n",
    "\n",
    "##### 1.1.1 1차원 데이터\n",
    "\n",
    "→ **series**를 이용한다."
   ]
  },
  {
   "cell_type": "code",
   "execution_count": 6,
   "metadata": {},
   "outputs": [
    {
     "data": {
      "text/plain": [
       "0    10\n",
       "1    20\n",
       "2    30\n",
       "3    40\n",
       "dtype: int32"
      ]
     },
     "execution_count": 6,
     "metadata": {},
     "output_type": "execute_result"
    }
   ],
   "source": [
    "sr = pd.Series([10,20,30,40],dtype=np.int32) # dtype의 기본은 int64\n",
    "sr # 앞에는 인덱스 뒤에는 값이 출력된다"
   ]
  },
  {
   "cell_type": "code",
   "execution_count": 7,
   "metadata": {},
   "outputs": [
    {
     "data": {
      "text/plain": [
       "aa    10\n",
       "bb    20\n",
       "cc    30\n",
       "dd    40\n",
       "dtype: int64"
      ]
     },
     "execution_count": 7,
     "metadata": {},
     "output_type": "execute_result"
    }
   ],
   "source": [
    "sr = pd.Series([10,20,30,40],index = ['aa','bb','cc','dd']) #index의 기본은 0,1,2...\n",
    "sr"
   ]
  },
  {
   "cell_type": "code",
   "execution_count": 8,
   "metadata": {},
   "outputs": [
    {
     "data": {
      "text/plain": [
       "aa    10\n",
       "bb    20\n",
       "cc    30\n",
       "dtype: int64"
      ]
     },
     "execution_count": 8,
     "metadata": {},
     "output_type": "execute_result"
    }
   ],
   "source": [
    "sr = pd.Series({'aa':10,'bb':20,'cc':30})\n",
    "sr"
   ]
  },
  {
   "cell_type": "markdown",
   "metadata": {},
   "source": [
    "Series 객체의 속성에 대해서 알아보자!  \n",
    "그 중에서 속성, 인덱스 슬라이싱, 메소드를 자세하게 알아보자"
   ]
  },
  {
   "cell_type": "code",
   "execution_count": 9,
   "metadata": {},
   "outputs": [
    {
     "data": {
      "text/plain": [
       "aa    10\n",
       "bb    20\n",
       "cc    30\n",
       "dd    40\n",
       "dtype: int64"
      ]
     },
     "execution_count": 9,
     "metadata": {},
     "output_type": "execute_result"
    }
   ],
   "source": [
    "sr = pd.Series([10,20,30,40], index=['aa','bb','cc','dd'])\n",
    "sr"
   ]
  },
  {
   "cell_type": "code",
   "execution_count": 10,
   "metadata": {},
   "outputs": [
    {
     "data": {
      "text/plain": [
       "1"
      ]
     },
     "execution_count": 10,
     "metadata": {},
     "output_type": "execute_result"
    }
   ],
   "source": [
    "sr.ndim # 차원"
   ]
  },
  {
   "cell_type": "code",
   "execution_count": 11,
   "metadata": {},
   "outputs": [
    {
     "data": {
      "text/plain": [
       "(4,)"
      ]
     },
     "execution_count": 11,
     "metadata": {},
     "output_type": "execute_result"
    }
   ],
   "source": [
    "sr.shape # 4행...리턴은 행렬인 tuple이 나온다"
   ]
  },
  {
   "cell_type": "code",
   "execution_count": 12,
   "metadata": {},
   "outputs": [
    {
     "data": {
      "text/plain": [
       "4"
      ]
     },
     "execution_count": 12,
     "metadata": {},
     "output_type": "execute_result"
    }
   ],
   "source": [
    "sr.size # 전체 데이터의 갯수가 나온다"
   ]
  },
  {
   "cell_type": "code",
   "execution_count": 13,
   "metadata": {},
   "outputs": [
    {
     "data": {
      "text/plain": [
       "Index(['aa', 'bb', 'cc', 'dd'], dtype='object')"
      ]
     },
     "execution_count": 13,
     "metadata": {},
     "output_type": "execute_result"
    }
   ],
   "source": [
    "sr.index # series의 index만 list로 추출"
   ]
  },
  {
   "cell_type": "code",
   "execution_count": 14,
   "metadata": {},
   "outputs": [
    {
     "data": {
      "text/plain": [
       "array([10, 20, 30, 40])"
      ]
     },
     "execution_count": 14,
     "metadata": {},
     "output_type": "execute_result"
    }
   ],
   "source": [
    "sr.values # 값만 나오게 하자"
   ]
  },
  {
   "cell_type": "markdown",
   "metadata": {},
   "source": [
    "---\n",
    "\n",
    "index slicing에 대해서 알아보자!!  "
   ]
  },
  {
   "cell_type": "code",
   "execution_count": 15,
   "metadata": {},
   "outputs": [
    {
     "name": "stdout",
     "output_type": "stream",
     "text": [
      "10\n",
      "40\n"
     ]
    }
   ],
   "source": [
    "print(sr[0])\n",
    "print(sr[-1]) # python의 기본 자료형인 list와 같이"
   ]
  },
  {
   "cell_type": "code",
   "execution_count": 16,
   "metadata": {},
   "outputs": [
    {
     "name": "stdout",
     "output_type": "stream",
     "text": [
      "10\n",
      "30\n"
     ]
    }
   ],
   "source": [
    "print(sr['aa'])\n",
    "print(sr['cc'])"
   ]
  },
  {
   "cell_type": "markdown",
   "metadata": {},
   "source": [
    "series에서는 slicing의 결과값이 series 객체로 리턴된다."
   ]
  },
  {
   "cell_type": "code",
   "execution_count": 17,
   "metadata": {},
   "outputs": [
    {
     "name": "stdout",
     "output_type": "stream",
     "text": [
      "bb    20\n",
      "cc    30\n",
      "dd    40\n",
      "dtype: int64\n"
     ]
    }
   ],
   "source": [
    "print(sr[1:4]) # a는 출력하지 않는다"
   ]
  },
  {
   "cell_type": "code",
   "execution_count": 18,
   "metadata": {},
   "outputs": [
    {
     "data": {
      "text/plain": [
       "aa    10\n",
       "bb    20\n",
       "cc    30\n",
       "dtype: int64"
      ]
     },
     "execution_count": 18,
     "metadata": {},
     "output_type": "execute_result"
    }
   ],
   "source": [
    "sr['aa':'cc'] # 부여된 index에서는 'cc'가 포함된다"
   ]
  },
  {
   "cell_type": "code",
   "execution_count": 19,
   "metadata": {},
   "outputs": [
    {
     "name": "stdout",
     "output_type": "stream",
     "text": [
      "10\n",
      "10\n"
     ]
    }
   ],
   "source": [
    "print(sr.iloc[0]) # == sr[0] ... 0번째 위치 \n",
    "# sr.iloc['aa'] => Error\n",
    "print(sr.loc['aa']) # 반드시 부여된 index를 써야한다"
   ]
  },
  {
   "cell_type": "markdown",
   "metadata": {},
   "source": [
    "iloc : index에서 반드시 Zero Base index를 주어야한다. 즉, 아무것도 부여 안되면 default로 부여되는 index  \n",
    "loc : 부여된 index를 써야한다  \n",
    "\n",
    "그럼 왜 따로 iloc,loc을 쓸까?"
   ]
  },
  {
   "cell_type": "code",
   "execution_count": 20,
   "metadata": {},
   "outputs": [
    {
     "data": {
      "text/plain": [
       "40"
      ]
     },
     "execution_count": 20,
     "metadata": {},
     "output_type": "execute_result"
    }
   ],
   "source": [
    "sr = pd.Series([10,20,30,40],index = [0,1,2,3])\n",
    "# print(sr[-1]) ERROR!! -> 부여된 index에서 -1가 없기 때문에 Error가 생긴다\n",
    "sr.iloc[-1] # zerobase로 찾으라고 명시하면 찾을 수 있다"
   ]
  },
  {
   "cell_type": "markdown",
   "metadata": {},
   "source": [
    "위와 같은 경우 때문에 iloc과 loc을 구분해서 사용한다"
   ]
  },
  {
   "cell_type": "markdown",
   "metadata": {},
   "source": [
    "---\n",
    "\n",
    "Series 객체를 사용할때 Method에 대해서 알아보자"
   ]
  },
  {
   "cell_type": "code",
   "execution_count": 21,
   "metadata": {},
   "outputs": [],
   "source": [
    "sr = pd.Series([10,20,30,40], index=['aa','bb','cc','dd'])"
   ]
  },
  {
   "cell_type": "code",
   "execution_count": 22,
   "metadata": {},
   "outputs": [
    {
     "data": {
      "text/plain": [
       "10"
      ]
     },
     "execution_count": 22,
     "metadata": {},
     "output_type": "execute_result"
    }
   ],
   "source": [
    "sr.aa # index가 string인 경우 이렇게 속성처럼 사용할 수 있다. 하지만 조심해야한다.\n",
    "# 그래서 확실하게 하고 싶으면 sr['aa']로 하자! "
   ]
  },
  {
   "cell_type": "code",
   "execution_count": 23,
   "metadata": {},
   "outputs": [
    {
     "data": {
      "text/plain": [
       "aa    12\n",
       "bb    22\n",
       "cc    32\n",
       "dd    42\n",
       "dtype: int64"
      ]
     },
     "execution_count": 23,
     "metadata": {},
     "output_type": "execute_result"
    }
   ],
   "source": [
    "sr+2 # list에서는 안되는 문법\n",
    "# Series에서는 개별 데이터에 대해서 더해준다"
   ]
  },
  {
   "cell_type": "code",
   "execution_count": 24,
   "metadata": {},
   "outputs": [
    {
     "data": {
      "text/plain": [
       "aa    20\n",
       "bb    40\n",
       "cc    60\n",
       "dd    80\n",
       "dtype: int64"
      ]
     },
     "execution_count": 24,
     "metadata": {},
     "output_type": "execute_result"
    }
   ],
   "source": [
    "sr*2"
   ]
  },
  {
   "cell_type": "code",
   "execution_count": 25,
   "metadata": {},
   "outputs": [],
   "source": [
    "sr1 = pd.Series([10,20,30,40], index=['aa','bb','cc','dd'])\n",
    "sr2 = pd.Series([1,2,3,4], index=['aa','bb','cc','dd'])"
   ]
  },
  {
   "cell_type": "code",
   "execution_count": 26,
   "metadata": {},
   "outputs": [
    {
     "data": {
      "text/plain": [
       "aa     10\n",
       "bb     40\n",
       "cc     90\n",
       "dd    160\n",
       "dtype: int64"
      ]
     },
     "execution_count": 26,
     "metadata": {},
     "output_type": "execute_result"
    }
   ],
   "source": [
    "sr1*sr2 # 각 행열의 개별 데이터끼리 곱한 값이 나온다"
   ]
  },
  {
   "cell_type": "markdown",
   "metadata": {},
   "source": [
    "여기서 잠깐 문제!\n",
    "> Q. 각각 연봉 데이터에 대해서 세금 **3.3퍼센트를 제외한 실수령액**을 구하시오"
   ]
  },
  {
   "cell_type": "code",
   "execution_count": 27,
   "metadata": {},
   "outputs": [
    {
     "data": {
      "text/plain": [
       "0     967.0\n",
       "1    1934.0\n",
       "2    2901.0\n",
       "3    3868.0\n",
       "dtype: float64"
      ]
     },
     "execution_count": 27,
     "metadata": {},
     "output_type": "execute_result"
    }
   ],
   "source": [
    "salary = pd.Series([1000,2000,3000,4000])\n",
    "salary*0.967"
   ]
  },
  {
   "cell_type": "markdown",
   "metadata": {},
   "source": [
    "---\n",
    "\n",
    "list에는 없고 Series에서만 있는 **Boolean indexing** 방법에 대해서 알아보자"
   ]
  },
  {
   "cell_type": "code",
   "execution_count": 28,
   "metadata": {},
   "outputs": [
    {
     "data": {
      "text/plain": [
       "cc    30\n",
       "dd    40\n",
       "dtype: int64"
      ]
     },
     "execution_count": 28,
     "metadata": {},
     "output_type": "execute_result"
    }
   ],
   "source": [
    "sr[[False,False,True,True]] # True인 것에 대해서만 출력되는 것을 알 수 있다"
   ]
  },
  {
   "cell_type": "markdown",
   "metadata": {},
   "source": [
    "---\n",
    "\n",
    "Series에서는 **관계 연산자**도 쓸 수 있다.  \n",
    "그럼 만족하는 데이터에 대해서 True,False를 출력한다."
   ]
  },
  {
   "cell_type": "code",
   "execution_count": 29,
   "metadata": {},
   "outputs": [
    {
     "data": {
      "text/plain": [
       "aa    False\n",
       "bb    False\n",
       "cc     True\n",
       "dd     True\n",
       "dtype: bool"
      ]
     },
     "execution_count": 29,
     "metadata": {},
     "output_type": "execute_result"
    }
   ],
   "source": [
    "sr > 20"
   ]
  },
  {
   "cell_type": "code",
   "execution_count": 30,
   "metadata": {},
   "outputs": [
    {
     "data": {
      "text/plain": [
       "cc    30\n",
       "dd    40\n",
       "dtype: int64"
      ]
     },
     "execution_count": 30,
     "metadata": {},
     "output_type": "execute_result"
    }
   ],
   "source": [
    "sr[sr > 20] # 결국 이건 sr [ [False,False,True,True] ] 와 동일한 표현이다"
   ]
  },
  {
   "cell_type": "markdown",
   "metadata": {},
   "source": [
    "Pandas에서 **논리 연산자**를 and,or,not를 쓰지 않는다! 주의하자!  \n",
    "> and → **`&`**  \n",
    "> or → **`|`**  \n",
    "> not → **`~`**"
   ]
  },
  {
   "cell_type": "code",
   "execution_count": 31,
   "metadata": {},
   "outputs": [
    {
     "data": {
      "text/plain": [
       "bb    20\n",
       "dtype: int64"
      ]
     },
     "execution_count": 31,
     "metadata": {},
     "output_type": "execute_result"
    }
   ],
   "source": [
    "sr[ sr == 20 ]"
   ]
  },
  {
   "cell_type": "code",
   "execution_count": 32,
   "metadata": {},
   "outputs": [
    {
     "data": {
      "text/plain": [
       "bb    20\n",
       "cc    30\n",
       "dtype: int64"
      ]
     },
     "execution_count": 32,
     "metadata": {},
     "output_type": "execute_result"
    }
   ],
   "source": [
    "# and 를 쓸때\n",
    "sr[ (sr>10) & (sr<40) ] # (괄호)를 잊지말자..연산자 우선순위때문에"
   ]
  },
  {
   "cell_type": "code",
   "execution_count": 33,
   "metadata": {},
   "outputs": [
    {
     "data": {
      "text/plain": [
       "bb    20\n",
       "dd    40\n",
       "dtype: int64"
      ]
     },
     "execution_count": 33,
     "metadata": {},
     "output_type": "execute_result"
    }
   ],
   "source": [
    "# or 를 쓸때\n",
    "sr[ (sr == 20) | (sr == 40) ] # (괄호)를 잊지말자..연산자 우선순위때문에"
   ]
  },
  {
   "cell_type": "code",
   "execution_count": 34,
   "metadata": {},
   "outputs": [
    {
     "data": {
      "text/plain": [
       "aa    10\n",
       "cc    30\n",
       "dd    40\n",
       "dtype: int64"
      ]
     },
     "execution_count": 34,
     "metadata": {},
     "output_type": "execute_result"
    }
   ],
   "source": [
    "# not 을 쓸때\n",
    "sr[ ~(sr==20)]"
   ]
  },
  {
   "cell_type": "markdown",
   "metadata": {},
   "source": [
    "---\n",
    "\n",
    "**멤버함수**에 대해서 알아보자"
   ]
  },
  {
   "cell_type": "markdown",
   "metadata": {},
   "source": [
    "> isin함수"
   ]
  },
  {
   "cell_type": "code",
   "execution_count": 35,
   "metadata": {},
   "outputs": [
    {
     "data": {
      "text/plain": [
       "aa    10\n",
       "bb    20\n",
       "dtype: int64"
      ]
     },
     "execution_count": 35,
     "metadata": {},
     "output_type": "execute_result"
    }
   ],
   "source": [
    "sr[sr.isin([10,20])] # sr[(sr==10)&(sr==20)] 과 동일하다"
   ]
  },
  {
   "cell_type": "code",
   "execution_count": 36,
   "metadata": {},
   "outputs": [
    {
     "data": {
      "text/plain": [
       "array([ True,  True,  True, False])"
      ]
     },
     "execution_count": 36,
     "metadata": {},
     "output_type": "execute_result"
    }
   ],
   "source": [
    "sr.index.isin(['aa','bb','cc'])"
   ]
  },
  {
   "cell_type": "markdown",
   "metadata": {},
   "source": [
    "---\n",
    "\n",
    "데이터의 **추가 / 수정 / 삭제 / 검색 / 정렬**에 대해서 알아보자"
   ]
  },
  {
   "cell_type": "code",
   "execution_count": 37,
   "metadata": {},
   "outputs": [],
   "source": [
    "sr = pd.Series([10,20,30,40],index = ['aa','bb','cc','dd']) #index의 기본은 0,1,2..."
   ]
  },
  {
   "cell_type": "code",
   "execution_count": 38,
   "metadata": {},
   "outputs": [
    {
     "data": {
      "text/plain": [
       "aa    100\n",
       "bb     20\n",
       "cc     30\n",
       "dd     40\n",
       "dtype: int64"
      ]
     },
     "execution_count": 38,
     "metadata": {},
     "output_type": "execute_result"
    }
   ],
   "source": [
    "# 데이터의 수정\n",
    "sr[0] = 100 # sr['aa']=100, sr.iloc[0], sr.loc['aa']=100 모두 같은 표현!!\n",
    "sr"
   ]
  },
  {
   "cell_type": "code",
   "execution_count": 39,
   "metadata": {},
   "outputs": [
    {
     "data": {
      "text/plain": [
       "aa    100\n",
       "bb      1\n",
       "cc      1\n",
       "dd     40\n",
       "dtype: int64"
      ]
     },
     "execution_count": 39,
     "metadata": {},
     "output_type": "execute_result"
    }
   ],
   "source": [
    "sr[1:3] = 1\n",
    "sr"
   ]
  },
  {
   "cell_type": "code",
   "execution_count": 40,
   "metadata": {},
   "outputs": [
    {
     "data": {
      "text/plain": [
       "aa    100\n",
       "bb      1\n",
       "cc      1\n",
       "dd     40\n",
       "dtype: int64"
      ]
     },
     "execution_count": 40,
     "metadata": {},
     "output_type": "execute_result"
    }
   ],
   "source": [
    "sr"
   ]
  },
  {
   "cell_type": "code",
   "execution_count": 41,
   "metadata": {},
   "outputs": [
    {
     "data": {
      "text/plain": [
       "aa    100\n",
       "bb    101\n",
       "cc      1\n",
       "dd     40\n",
       "dtype: int64"
      ]
     },
     "execution_count": 41,
     "metadata": {},
     "output_type": "execute_result"
    }
   ],
   "source": [
    "sr[1] = sr[1]+100\n",
    "sr"
   ]
  },
  {
   "cell_type": "code",
   "execution_count": 42,
   "metadata": {},
   "outputs": [
    {
     "data": {
      "text/plain": [
       "aa    100\n",
       "bb    102\n",
       "cc      2\n",
       "dd     40\n",
       "dtype: int64"
      ]
     },
     "execution_count": 42,
     "metadata": {},
     "output_type": "execute_result"
    }
   ],
   "source": [
    "sr[1:3] = sr[1:3]+1\n",
    "sr # 2,3번째줄 숫자 증가"
   ]
  },
  {
   "cell_type": "code",
   "execution_count": 43,
   "metadata": {},
   "outputs": [
    {
     "data": {
      "text/plain": [
       "aa    101\n",
       "bb    103\n",
       "cc      2\n",
       "dd     41\n",
       "dtype: int64"
      ]
     },
     "execution_count": 43,
     "metadata": {},
     "output_type": "execute_result"
    }
   ],
   "source": [
    "sr[sr>20] += 1\n",
    "sr"
   ]
  },
  {
   "cell_type": "code",
   "execution_count": 44,
   "metadata": {},
   "outputs": [
    {
     "data": {
      "text/plain": [
       "aa    101\n",
       "bb    103\n",
       "cc      2\n",
       "dd     41\n",
       "ee     50\n",
       "dtype: int64"
      ]
     },
     "execution_count": 44,
     "metadata": {},
     "output_type": "execute_result"
    }
   ],
   "source": [
    "# 데이터의 추가\n",
    "sr['ee'] = 50 # 단순히 이렇게 할때, index가 있으면 수정되고 없으면 데이터가 추가된다\n",
    "sr"
   ]
  },
  {
   "cell_type": "code",
   "execution_count": 45,
   "metadata": {},
   "outputs": [
    {
     "data": {
      "text/plain": [
       "aa     101\n",
       "bb     103\n",
       "cc       2\n",
       "dd      41\n",
       "ee      50\n",
       "ff      60\n",
       "fwe      1\n",
       "wef      2\n",
       "sdf      3\n",
       "dtype: int64"
      ]
     },
     "execution_count": 45,
     "metadata": {},
     "output_type": "execute_result"
    }
   ],
   "source": [
    "sr = sr.append(pd.Series({'ff':60})) # return 을 받아줘야한다\n",
    "sr = sr.append(pd.Series([1,2,3],index=['fwe','wef','sdf']))\n",
    "sr"
   ]
  },
  {
   "cell_type": "code",
   "execution_count": 46,
   "metadata": {},
   "outputs": [
    {
     "data": {
      "text/plain": [
       "aa     101\n",
       "bb     103\n",
       "cc       2\n",
       "dd      41\n",
       "ee      50\n",
       "ff      60\n",
       "fwe      1\n",
       "wef      2\n",
       "sdf      3\n",
       "dtype: int64"
      ]
     },
     "execution_count": 46,
     "metadata": {},
     "output_type": "execute_result"
    }
   ],
   "source": [
    "# 데이터의 삭제\n",
    "sr = sr[ sr!=20 ] # overwrite하는거임 사실\n",
    "sr"
   ]
  },
  {
   "cell_type": "code",
   "execution_count": 47,
   "metadata": {},
   "outputs": [
    {
     "data": {
      "text/plain": [
       "bb     103\n",
       "cc       2\n",
       "dd      41\n",
       "ee      50\n",
       "ff      60\n",
       "fwe      1\n",
       "wef      2\n",
       "sdf      3\n",
       "dtype: int64"
      ]
     },
     "execution_count": 47,
     "metadata": {},
     "output_type": "execute_result"
    }
   ],
   "source": [
    "sr = sr.drop( ['aa'] ) # 멤버함수에 의한 삭제 -> index를 이용한 삭제임 마찬가지로 삭제한 객체를 리턴하므로 받아야한다\n",
    "sr"
   ]
  },
  {
   "cell_type": "code",
   "execution_count": 49,
   "metadata": {},
   "outputs": [
    {
     "data": {
      "text/plain": [
       "bb    20\n",
       "cc    30\n",
       "dd    40\n",
       "dtype: int64"
      ]
     },
     "execution_count": 49,
     "metadata": {},
     "output_type": "execute_result"
    }
   ],
   "source": [
    "sr = pd.Series([10,20,30,40],index = ['aa','bb','cc','dd'])\n",
    "sr.drop('aa', inplace=True) # inplace 옵션 쓰면 Series 자체가 삭제 됨\n",
    "sr"
   ]
  },
  {
   "cell_type": "code",
   "execution_count": 50,
   "metadata": {},
   "outputs": [
    {
     "data": {
      "text/plain": [
       "dd    40\n",
       "dtype: int64"
      ]
     },
     "execution_count": 50,
     "metadata": {},
     "output_type": "execute_result"
    }
   ],
   "source": [
    "sr.drop(['bb','cc'], inplace=True) # inplace 옵션 쓰면 Series 자체가 삭제 됨\n",
    "sr"
   ]
  },
  {
   "cell_type": "code",
   "execution_count": 52,
   "metadata": {},
   "outputs": [
    {
     "data": {
      "text/plain": [
       "bb    20\n",
       "cc    30\n",
       "dd    40\n",
       "dtype: int64"
      ]
     },
     "execution_count": 52,
     "metadata": {},
     "output_type": "execute_result"
    }
   ],
   "source": [
    "sr = pd.Series([10,20,30,40],index = ['aa','bb','cc','dd'])\n",
    "del (sr['aa'])\n",
    "sr"
   ]
  },
  {
   "cell_type": "code",
   "execution_count": 55,
   "metadata": {},
   "outputs": [
    {
     "data": {
      "text/plain": [
       "dd    100\n",
       "cc      2\n",
       "bb    320\n",
       "aa     40\n",
       "dtype: int64"
      ]
     },
     "execution_count": 55,
     "metadata": {},
     "output_type": "execute_result"
    }
   ],
   "source": [
    "# 데이터의 정렬\n",
    "sr = pd.Series([100,2,320,40],index = ['dd','cc','bb','aa'])\n",
    "sr"
   ]
  },
  {
   "cell_type": "code",
   "execution_count": 57,
   "metadata": {},
   "outputs": [
    {
     "data": {
      "text/plain": [
       "dd    100\n",
       "cc      2\n",
       "bb    320\n",
       "aa     40\n",
       "dtype: int64"
      ]
     },
     "execution_count": 57,
     "metadata": {},
     "output_type": "execute_result"
    }
   ],
   "source": [
    "# 인덱스 순서로 정렬해라, ascending의 값에 따라서 오름차순(True), 내림차순(False) 달라짐\n",
    "sr.sort_index(ascending=False)"
   ]
  },
  {
   "cell_type": "code",
   "execution_count": 59,
   "metadata": {},
   "outputs": [
    {
     "data": {
      "text/plain": [
       "cc      2\n",
       "aa     40\n",
       "dd    100\n",
       "bb    320\n",
       "dtype: int64"
      ]
     },
     "execution_count": 59,
     "metadata": {},
     "output_type": "execute_result"
    }
   ],
   "source": [
    "# 값의 크기 순으로 정렬\n",
    "sr.sort_values(ascending=True)"
   ]
  },
  {
   "cell_type": "code",
   "execution_count": 81,
   "metadata": {},
   "outputs": [
    {
     "data": {
      "text/plain": [
       "ab      apple\n",
       "cd     better\n",
       "ef     amazon\n",
       "gh       kiwi\n",
       "ij    samsung\n",
       "kl      apply\n",
       "mn        lga\n",
       "dtype: object"
      ]
     },
     "execution_count": 81,
     "metadata": {},
     "output_type": "execute_result"
    }
   ],
   "source": [
    "# 데이터의 검색\n",
    "sr1 = pd.Series(['apple','better','amazon','kiwi','samsung','apply','lga'],\n",
    "               index = ['ab','cd','ef','gh','ij','kl','mn'])\n",
    "sr1"
   ]
  },
  {
   "cell_type": "code",
   "execution_count": 82,
   "metadata": {},
   "outputs": [
    {
     "data": {
      "text/plain": [
       "ab    apple\n",
       "dtype: object"
      ]
     },
     "execution_count": 82,
     "metadata": {},
     "output_type": "execute_result"
    }
   ],
   "source": [
    "sr1[sr1.str.contains('apple')]"
   ]
  },
  {
   "cell_type": "code",
   "execution_count": 83,
   "metadata": {},
   "outputs": [
    {
     "data": {
      "text/plain": [
       "ab    apple\n",
       "kl    apply\n",
       "dtype: object"
      ]
     },
     "execution_count": 83,
     "metadata": {},
     "output_type": "execute_result"
    }
   ],
   "source": [
    "sr1[sr1.str.contains('app')] # app이 들어간 부분 검색도 가능하다"
   ]
  },
  {
   "cell_type": "code",
   "execution_count": 84,
   "metadata": {},
   "outputs": [
    {
     "data": {
      "text/plain": [
       "gh    kiwi\n",
       "dtype: object"
      ]
     },
     "execution_count": 84,
     "metadata": {},
     "output_type": "execute_result"
    }
   ],
   "source": [
    "sr1[sr1.str.contains('[vwx]i',regex=True)] # 정규식 패턴을 사용하겠다고 표시"
   ]
  },
  {
   "cell_type": "markdown",
   "metadata": {},
   "source": [
    "**[vwx]i** : vi, wi, xi를 찾아주겠다는 정규 표현식\n",
    "그래서 결과가 **kiwi**가 나온거임"
   ]
  },
  {
   "cell_type": "code",
   "execution_count": 85,
   "metadata": {},
   "outputs": [
    {
     "data": {
      "text/plain": [
       "ef     amazon\n",
       "ij    samsung\n",
       "mn        lga\n",
       "dtype: object"
      ]
     },
     "execution_count": 85,
     "metadata": {},
     "output_type": "execute_result"
    }
   ],
   "source": [
    "sr1[sr1.str.contains('[a-z]a',regex=True)]"
   ]
  },
  {
   "cell_type": "markdown",
   "metadata": {},
   "source": [
    "lga 가 나오는 이유는 **~a** 라는 패턴이기 때문임"
   ]
  },
  {
   "cell_type": "code",
   "execution_count": 109,
   "metadata": {},
   "outputs": [
    {
     "data": {
      "text/plain": [
       "0      김철수\n",
       "1      이순신\n",
       "2       이이\n",
       "3      홍길동\n",
       "4      파이썬\n",
       "5       이황\n",
       "6     알고리즘\n",
       "7       삼성\n",
       "8     청년취업\n",
       "9     아카데미\n",
       "10      김이\n",
       "11      고종\n",
       "12      쀍이\n",
       "13     박김이\n",
       "dtype: object"
      ]
     },
     "execution_count": 109,
     "metadata": {},
     "output_type": "execute_result"
    }
   ],
   "source": [
    "sr2 = pd.Series(['김철수','이순신','이이',\n",
    "                 '홍길동','파이썬','이황',\n",
    "                 '알고리즘','삼성','청년취업',\n",
    "                 '아카데미','김이','고종','쀍이',\n",
    "                 '박김이'])\n",
    "sr2"
   ]
  },
  {
   "cell_type": "code",
   "execution_count": 90,
   "metadata": {},
   "outputs": [
    {
     "data": {
      "text/plain": [
       "1     이순신\n",
       "2      이이\n",
       "4     파이썬\n",
       "5      이황\n",
       "10     김이\n",
       "dtype: object"
      ]
     },
     "execution_count": 90,
     "metadata": {},
     "output_type": "execute_result"
    }
   ],
   "source": [
    "sr2[sr2.str.contains('이')]"
   ]
  },
  {
   "cell_type": "code",
   "execution_count": 95,
   "metadata": {},
   "outputs": [
    {
     "data": {
      "text/plain": [
       "2     이이\n",
       "10    김이\n",
       "dtype: object"
      ]
     },
     "execution_count": 95,
     "metadata": {},
     "output_type": "execute_result"
    }
   ],
   "source": [
    "sr2[sr2.str.contains('[김이]이', regex=True)]"
   ]
  },
  {
   "cell_type": "code",
   "execution_count": 99,
   "metadata": {},
   "outputs": [
    {
     "data": {
      "text/plain": [
       "2      이이\n",
       "4     파이썬\n",
       "10     김이\n",
       "12     쀍이\n",
       "dtype: object"
      ]
     },
     "execution_count": 99,
     "metadata": {},
     "output_type": "execute_result"
    }
   ],
   "source": [
    "sr2[sr2.str.contains('[가-힣]이', regex=True)]"
   ]
  },
  {
   "cell_type": "code",
   "execution_count": 100,
   "metadata": {},
   "outputs": [
    {
     "data": {
      "text/plain": [
       "0      11-22\n",
       "1      22-33\n",
       "2    333-444\n",
       "dtype: object"
      ]
     },
     "execution_count": 100,
     "metadata": {},
     "output_type": "execute_result"
    }
   ],
   "source": [
    "sr3 = pd.Series(['11-22','22-33','333-444'])\n",
    "sr3"
   ]
  },
  {
   "cell_type": "code",
   "execution_count": 107,
   "metadata": {},
   "outputs": [
    {
     "data": {
      "text/plain": [
       "0      11-22\n",
       "1      22-33\n",
       "2    333-444\n",
       "dtype: object"
      ]
     },
     "execution_count": 107,
     "metadata": {},
     "output_type": "execute_result"
    }
   ],
   "source": [
    "i = sr3.str.contains('\\d',regex=True) # %d == 0-9 랑 같은 표현임\n",
    "sr3[i]"
   ]
  },
  {
   "cell_type": "code",
   "execution_count": 108,
   "metadata": {},
   "outputs": [
    {
     "data": {
      "text/plain": [
       "0    11-22\n",
       "1    22-33\n",
       "dtype: object"
      ]
     },
     "execution_count": 108,
     "metadata": {},
     "output_type": "execute_result"
    }
   ],
   "source": [
    "i = sr3.str.contains('^\\d{2}-\\d{2}',regex=True) # ^ : 시작하는거\n",
    "sr3[i]"
   ]
  },
  {
   "cell_type": "code",
   "execution_count": 112,
   "metadata": {},
   "outputs": [
    {
     "data": {
      "text/plain": [
       "0     김철수\n",
       "10     김이\n",
       "dtype: object"
      ]
     },
     "execution_count": 112,
     "metadata": {},
     "output_type": "execute_result"
    }
   ],
   "source": [
    "i = sr2.str.contains('^김') # 김으로 시작하는거 찾아봐라\n",
    "sr2[i]"
   ]
  },
  {
   "cell_type": "code",
   "execution_count": 117,
   "metadata": {},
   "outputs": [
    {
     "data": {
      "text/plain": [
       "dd    100\n",
       "cc      2\n",
       "bb    320\n",
       "aa     40\n",
       "dtype: int64"
      ]
     },
     "execution_count": 117,
     "metadata": {},
     "output_type": "execute_result"
    }
   ],
   "source": [
    "sr = pd.Series([100,2,320,40],index = ['dd','cc','bb','aa'])\n",
    "sr"
   ]
  },
  {
   "cell_type": "code",
   "execution_count": 114,
   "metadata": {},
   "outputs": [
    {
     "data": {
      "text/plain": [
       "dd    102\n",
       "cc      4\n",
       "bb    322\n",
       "aa     42\n",
       "dtype: int64"
      ]
     },
     "execution_count": 114,
     "metadata": {},
     "output_type": "execute_result"
    }
   ],
   "source": [
    "sr.apply(lambda n : n+2) # 각각 개별 데이터에 2를 더하는것"
   ]
  },
  {
   "cell_type": "code",
   "execution_count": 118,
   "metadata": {},
   "outputs": [
    {
     "data": {
      "text/plain": [
       "dd    101\n",
       "cc      4\n",
       "bb    321\n",
       "aa     42\n",
       "dtype: int64"
      ]
     },
     "execution_count": 118,
     "metadata": {},
     "output_type": "execute_result"
    }
   ],
   "source": [
    "sr.apply(lambda n : n+1 if n>=100 else n+2)"
   ]
  },
  {
   "cell_type": "code",
   "execution_count": 139,
   "metadata": {},
   "outputs": [
    {
     "name": "stdout",
     "output_type": "stream",
     "text": [
      "max :  320\n",
      "min :  2\n",
      "sum :  462\n",
      "avg :  115.5\n",
      "median :  70.0\n",
      "idxmin :  cc\n",
      "std :  142.1771195844582\n",
      "50퍼에 해당하는 값 :  70.0\n",
      "25퍼에 해당하는 값, 50퍼에 해당하는 값, 75퍼에 해당하는 값 : \n",
      " 0.25     30.5\n",
      "0.50     70.0\n",
      "0.75    155.0\n",
      "dtype: float64\n"
     ]
    }
   ],
   "source": [
    "print('max : ',sr.max()) # max값\n",
    "print('min : ',sr.min()) # min값\n",
    "print('sum : ',sr.sum()) # 전체의 합'\n",
    "print('avg : ',sr.mean()) # 평균값\n",
    "print('median : ', sr.median()) # 중앙값 -> 데이터 중에서 이상한 데이터 있을 수 있는데 10,20,30,10000 이렇게 되면 평균이 의미가 없어진다\n",
    "print('idxmin : ',sr.idxmin())\n",
    "print('std : ',sr.std()) # 표준편차\n",
    "print('50퍼에 해당하는 값 : ',sr.quantile(0.5)) # median과 같은 값이 나옴\n",
    "print('25퍼에 해당하는 값, 50퍼에 해당하는 값, 75퍼에 해당하는 값 : \\n',sr.quantile([0.25,0.5,0.75]))"
   ]
  },
  {
   "cell_type": "code",
   "execution_count": 142,
   "metadata": {},
   "outputs": [
    {
     "name": "stdout",
     "output_type": "stream",
     "text": [
      "dd 100\n",
      "cc 2\n",
      "bb 320\n",
      "aa 40\n"
     ]
    }
   ],
   "source": [
    "for i,v in sr.items(): # items는 tuple로 반환한 걸 i,v로 나눠줌\n",
    "    print(i,v)"
   ]
  }
 ],
 "metadata": {
  "kernelspec": {
   "display_name": "Python 3",
   "language": "python",
   "name": "python3"
  },
  "language_info": {
   "codemirror_mode": {
    "name": "ipython",
    "version": 3
   },
   "file_extension": ".py",
   "mimetype": "text/x-python",
   "name": "python",
   "nbconvert_exporter": "python",
   "pygments_lexer": "ipython3",
   "version": "3.6.5"
  }
 },
 "nbformat": 4,
 "nbformat_minor": 2
}
