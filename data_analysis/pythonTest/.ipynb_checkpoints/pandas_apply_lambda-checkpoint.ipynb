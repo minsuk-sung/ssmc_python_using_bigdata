{
 "cells": [
  {
   "cell_type": "code",
   "execution_count": 1,
   "metadata": {},
   "outputs": [],
   "source": [
    "import numpy as np\n",
    "import pandas as pd"
   ]
  },
  {
   "cell_type": "code",
   "execution_count": 13,
   "metadata": {},
   "outputs": [
    {
     "data": {
      "text/html": [
       "<div>\n",
       "<style scoped>\n",
       "    .dataframe tbody tr th:only-of-type {\n",
       "        vertical-align: middle;\n",
       "    }\n",
       "\n",
       "    .dataframe tbody tr th {\n",
       "        vertical-align: top;\n",
       "    }\n",
       "\n",
       "    .dataframe thead th {\n",
       "        text-align: right;\n",
       "    }\n",
       "</style>\n",
       "<table border=\"1\" class=\"dataframe\">\n",
       "  <thead>\n",
       "    <tr style=\"text-align: right;\">\n",
       "      <th></th>\n",
       "      <th>kor</th>\n",
       "      <th>eng</th>\n",
       "      <th>math</th>\n",
       "    </tr>\n",
       "  </thead>\n",
       "  <tbody>\n",
       "    <tr>\n",
       "      <th>aa</th>\n",
       "      <td>73</td>\n",
       "      <td>69</td>\n",
       "      <td>46</td>\n",
       "    </tr>\n",
       "    <tr>\n",
       "      <th>bb</th>\n",
       "      <td>67</td>\n",
       "      <td>86</td>\n",
       "      <td>87</td>\n",
       "    </tr>\n",
       "    <tr>\n",
       "      <th>cc</th>\n",
       "      <td>98</td>\n",
       "      <td>75</td>\n",
       "      <td>67</td>\n",
       "    </tr>\n",
       "    <tr>\n",
       "      <th>dd</th>\n",
       "      <td>65</td>\n",
       "      <td>69</td>\n",
       "      <td>75</td>\n",
       "    </tr>\n",
       "  </tbody>\n",
       "</table>\n",
       "</div>"
      ],
      "text/plain": [
       "    kor  eng  math\n",
       "aa   73   69    46\n",
       "bb   67   86    87\n",
       "cc   98   75    67\n",
       "dd   65   69    75"
      ]
     },
     "execution_count": 13,
     "metadata": {},
     "output_type": "execute_result"
    }
   ],
   "source": [
    "df = pd.DataFrame({'kor':[73,67,98,65],'eng':[69,86,75,69],'math':[46,87,67,75]},\n",
    "                 index = ['aa','bb','cc','dd'])\n",
    "df"
   ]
  },
  {
   "cell_type": "code",
   "execution_count": 14,
   "metadata": {},
   "outputs": [],
   "source": [
    "def fn(v):\n",
    "    print(v)\n",
    "    print('-'*10)\n",
    "    # return v[0] # v['aa'] 랑 같은 표현임\n",
    "    return v.sum()"
   ]
  },
  {
   "cell_type": "code",
   "execution_count": 24,
   "metadata": {},
   "outputs": [
    {
     "data": {
      "text/plain": [
       "kor     75.75\n",
       "eng     74.75\n",
       "math    68.75\n",
       "dtype: float64"
      ]
     },
     "execution_count": 24,
     "metadata": {},
     "output_type": "execute_result"
    }
   ],
   "source": [
    "# df.apply(fn)\n",
    "df.apply(lambda v: v.mean()) # v가 시리즈"
   ]
  },
  {
   "cell_type": "code",
   "execution_count": 22,
   "metadata": {},
   "outputs": [],
   "source": [
    "def fn1(v):\n",
    "    print(v)\n",
    "    print('-'*10)\n",
    "    return v.mean()"
   ]
  },
  {
   "cell_type": "code",
   "execution_count": 23,
   "metadata": {},
   "outputs": [
    {
     "name": "stdout",
     "output_type": "stream",
     "text": [
      "kor     73\n",
      "eng     69\n",
      "math    46\n",
      "Name: aa, dtype: int64\n",
      "----------\n",
      "kor     67\n",
      "eng     86\n",
      "math    87\n",
      "Name: bb, dtype: int64\n",
      "----------\n",
      "kor     98\n",
      "eng     75\n",
      "math    67\n",
      "Name: cc, dtype: int64\n",
      "----------\n",
      "kor     65\n",
      "eng     69\n",
      "math    75\n",
      "Name: dd, dtype: int64\n",
      "----------\n"
     ]
    },
    {
     "data": {
      "text/plain": [
       "aa    62.666667\n",
       "bb    80.000000\n",
       "cc    80.000000\n",
       "dd    69.666667\n",
       "dtype: float64"
      ]
     },
     "execution_count": 23,
     "metadata": {},
     "output_type": "execute_result"
    }
   ],
   "source": [
    "df.apply(fn1,axis=1)"
   ]
  },
  {
   "cell_type": "code",
   "execution_count": 26,
   "metadata": {},
   "outputs": [
    {
     "data": {
      "text/plain": [
       "aa    평균 이상\n",
       "bb    평균 이하\n",
       "cc    평균 이상\n",
       "dd    평균 이하\n",
       "dtype: object"
      ]
     },
     "execution_count": 26,
     "metadata": {},
     "output_type": "execute_result"
    }
   ],
   "source": [
    "df.apply(lambda v:\"평균 이상\" if v[0]>=v.mean() else '평균 이하', axis=1)"
   ]
  },
  {
   "cell_type": "code",
   "execution_count": 29,
   "metadata": {},
   "outputs": [
    {
     "name": "stdout",
     "output_type": "stream",
     "text": [
      "73\n",
      "69\n",
      "46\n"
     ]
    }
   ],
   "source": [
    "for n in df:\n",
    "    #print(n) # column명 나옴\n",
    "    print(df[n]['aa'])"
   ]
  },
  {
   "cell_type": "code",
   "execution_count": 36,
   "metadata": {},
   "outputs": [
    {
     "name": "stdout",
     "output_type": "stream",
     "text": [
      "kor 73 67 98\n",
      "eng 69 86 75\n",
      "math 46 87 67\n"
     ]
    }
   ],
   "source": [
    "for idx,v in df.items(): # df.iteritems() 로 해도 동일한 표현임\n",
    "    #print(n) # tuple형태로 Series가 반환됨\n",
    "    # print(idx)\n",
    "    # print(v)\n",
    "    print('%s %d %d %d' % (idx,v[0],v[1],v[2])) # 이걸로 해도 같은 표현 (idx,v['aa'],v['bb'],v['cc'])"
   ]
  },
  {
   "cell_type": "code",
   "execution_count": 37,
   "metadata": {},
   "outputs": [
    {
     "name": "stdout",
     "output_type": "stream",
     "text": [
      "10 20 30\n"
     ]
    }
   ],
   "source": [
    "d = {'aa':10,'bb':20,'cc':30} \n",
    "print('%(aa)d %(bb)d %(cc)d' %d) # 딕셔너리 형태로 넣는거"
   ]
  },
  {
   "cell_type": "code",
   "execution_count": 43,
   "metadata": {},
   "outputs": [
    {
     "name": "stdout",
     "output_type": "stream",
     "text": [
      "aa 73 69 46\n",
      "bb 67 86 87\n",
      "cc 98 75 67\n",
      "dd 65 69 75\n"
     ]
    }
   ],
   "source": [
    "for idx,n in df.iterrows():\n",
    "    print(idx,n[0],n[1],n[2]) # tuple로 반환하므로 위에서 unpacking 한거"
   ]
  },
  {
   "cell_type": "code",
   "execution_count": null,
   "metadata": {},
   "outputs": [],
   "source": []
  }
 ],
 "metadata": {
  "kernelspec": {
   "display_name": "Python 3",
   "language": "python",
   "name": "python3"
  },
  "language_info": {
   "codemirror_mode": {
    "name": "ipython",
    "version": 3
   },
   "file_extension": ".py",
   "mimetype": "text/x-python",
   "name": "python",
   "nbconvert_exporter": "python",
   "pygments_lexer": "ipython3",
   "version": "3.6.5"
  }
 },
 "nbformat": 4,
 "nbformat_minor": 2
}
