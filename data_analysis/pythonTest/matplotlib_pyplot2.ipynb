{
 "cells": [
  {
   "cell_type": "code",
   "execution_count": 1,
   "metadata": {},
   "outputs": [],
   "source": [
    "import numpy as np\n",
    "import pandas as pd\n",
    "import matplotlib.pyplot as plt\n",
    "import matplotlib\n",
    "matplotlib.rcParams['font.family'] = 'AppleGothic'\n",
    "matplotlib.rcParams['axes.unicode_minus']=False"
   ]
  },
  {
   "cell_type": "markdown",
   "metadata": {},
   "source": [
    "표준체중(kg) = {신장(cm) - 100} x 0.85\n",
    "비만도(%) = 현재 체중 / 표준 체중 x 100\n",
    "\n",
    "[비만도]  \n",
    "0 ~ 90 : 저체중  \n",
    "90 ~ 110 : 정상  \n",
    "110 ~ 120 : 과체중  \n",
    "120 ~ : 비만  "
   ]
  },
  {
   "cell_type": "markdown",
   "metadata": {},
   "source": [
    "#### 비만도 측정하는 함수"
   ]
  },
  {
   "cell_type": "code",
   "execution_count": 46,
   "metadata": {},
   "outputs": [],
   "source": [
    "sList = []\n",
    "colors = []\n",
    "def obesity(h,w):\n",
    "    stdW = (h-100)*0.85\n",
    "    b = w/stdW*100\n",
    "    if b < 90:\n",
    "        sList.append(30)\n",
    "        colors.append('b')\n",
    "        return '저체중'\n",
    "    elif b>=90 and b < 110:\n",
    "        sList.append(100)\n",
    "        colors.append('k')\n",
    "        return '정상'\n",
    "    elif b>=110 and b<120:\n",
    "        sList.append(300)\n",
    "        colors.append('y')\n",
    "        return '과체중'\n",
    "    else:\n",
    "        sList.append(500)\n",
    "        colors.append('r')\n",
    "        return '비만'"
   ]
  },
  {
   "cell_type": "markdown",
   "metadata": {},
   "source": [
    "#### 비만도에 따른 원 크기 결정해주는 함수"
   ]
  },
  {
   "cell_type": "code",
   "execution_count": 7,
   "metadata": {},
   "outputs": [],
   "source": [
    "def colorFn(s):\n",
    "    if s == '저체중':\n",
    "        return 50\n",
    "    elif s == '정상':\n",
    "        return 100\n",
    "    elif s == '과체중':\n",
    "        return 200\n",
    "    else:\n",
    "        return 400"
   ]
  },
  {
   "cell_type": "code",
   "execution_count": 8,
   "metadata": {},
   "outputs": [
    {
     "data": {
      "image/png": "[encoded data removed]",
      "text/plain": [
       "<Figure size 432x288 with 1 Axes>"
      ]
     },
     "metadata": {},
     "output_type": "display_data"
    }
   ],
   "source": [
    "height = [165,177,160,180,185,155,172]\n",
    "weight = [62,55,55,74,90,43,64]\n",
    "sList = [colorFn(obesity(x,y)) for x,y in zip(height,weight)]\n",
    "colors = ['r','g','b','k','m','y','c']\n",
    "for x,y in zip(height,weight):\n",
    "    plt.text(x,y,obesity(x,y))\n",
    "    plt.scatter(height,weight,\n",
    "            s=sList,  # 크기\n",
    "            c=colors, # 색깔\n",
    "            alpha=0.5 # 투명도\n",
    "           )\n",
    "plt.xlabel('키')\n",
    "plt.ylabel('몸무게')\n",
    "plt.grid(True)\n",
    "plt.show()"
   ]
  },
  {
   "cell_type": "code",
   "execution_count": 47,
   "metadata": {},
   "outputs": [
    {
     "data": {
      "image/png": "[encoded data removed]",
      "text/plain": [
       "<Figure size 432x288 with 1 Axes>"
      ]
     },
     "metadata": {},
     "output_type": "display_data"
    }
   ],
   "source": [
    "height = [165,177,160,180,185,155,172]\n",
    "weight = [62,55,55,74,90,43,64]\n",
    "# sList = [50*n for n in range(1,8)]\n",
    "# colors = ['r','g','b','k','m','y','c']\n",
    "for x,y in zip(height,weight):\n",
    "    plt.text(x,y,obesity(x,y))\n",
    "plt.scatter(height,weight,\n",
    "            s=sList,  # 크기\n",
    "            c=colors, # 색깔\n",
    "            alpha=0.5 # 투명도\n",
    "           )\n",
    "plt.xlabel('키')\n",
    "plt.ylabel('몸무게')\n",
    "plt.grid(True)\n",
    "plt.show()"
   ]
  },
  {
   "cell_type": "code",
   "execution_count": null,
   "metadata": {},
   "outputs": [],
   "source": []
  }
 ],
 "metadata": {
  "kernelspec": {
   "display_name": "Python 3",
   "language": "python",
   "name": "python3"
  },
  "language_info": {
   "codemirror_mode": {
    "name": "ipython",
    "version": 3
   },
   "file_extension": ".py",
   "mimetype": "text/x-python",
   "name": "python",
   "nbconvert_exporter": "python",
   "pygments_lexer": "ipython3",
   "version": "3.6.5"
  }
 },
 "nbformat": 4,
 "nbformat_minor": 2
}
